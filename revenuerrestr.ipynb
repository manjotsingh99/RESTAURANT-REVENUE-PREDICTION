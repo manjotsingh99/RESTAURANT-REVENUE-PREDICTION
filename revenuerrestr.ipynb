{
 "cells": [
  {
   "cell_type": "code",
   "execution_count": 1,
   "metadata": {
    "execution": {
     "iopub.execute_input": "2020-10-22T13:13:38.119848Z",
     "iopub.status.busy": "2020-10-22T13:13:38.118994Z",
     "iopub.status.idle": "2020-10-22T13:13:39.200646Z",
     "shell.execute_reply": "2020-10-22T13:13:39.199805Z"
    },
    "papermill": {
     "duration": 1.135986,
     "end_time": "2020-10-22T13:13:39.200781",
     "exception": false,
     "start_time": "2020-10-22T13:13:38.064795",
     "status": "completed"
    },
    "tags": []
   },
   "outputs": [],
   "source": [
    "import pandas as pd\n",
    "import numpy as np\n",
    "import seaborn as sns"
   ]
  },
  {
   "cell_type": "code",
   "execution_count": 2,
   "metadata": {
    "execution": {
     "iopub.execute_input": "2020-10-22T13:13:39.299651Z",
     "iopub.status.busy": "2020-10-22T13:13:39.298859Z",
     "iopub.status.idle": "2020-10-22T13:13:39.319194Z",
     "shell.execute_reply": "2020-10-22T13:13:39.318398Z"
    },
    "papermill": {
     "duration": 0.071754,
     "end_time": "2020-10-22T13:13:39.319372",
     "exception": false,
     "start_time": "2020-10-22T13:13:39.247618",
     "status": "completed"
    },
    "tags": []
   },
   "outputs": [],
   "source": [
    "trainData=pd.read_csv(\"../input/restaurant-revenue-prediction/train.csv.zip\")"
   ]
  },
  {
   "cell_type": "code",
   "execution_count": 3,
   "metadata": {
    "execution": {
     "iopub.execute_input": "2020-10-22T13:13:39.417220Z",
     "iopub.status.busy": "2020-10-22T13:13:39.416422Z",
     "iopub.status.idle": "2020-10-22T13:13:39.937535Z",
     "shell.execute_reply": "2020-10-22T13:13:39.936720Z"
    },
    "papermill": {
     "duration": 0.572166,
     "end_time": "2020-10-22T13:13:39.937666",
     "exception": false,
     "start_time": "2020-10-22T13:13:39.365500",
     "status": "completed"
    },
    "tags": []
   },
   "outputs": [],
   "source": [
    "df=pd.read_csv(\"../input/restaurant-revenue-prediction/test.csv.zip\")"
   ]
  },
  {
   "cell_type": "code",
   "execution_count": 4,
   "metadata": {
    "execution": {
     "iopub.execute_input": "2020-10-22T13:13:40.069010Z",
     "iopub.status.busy": "2020-10-22T13:13:40.051060Z",
     "iopub.status.idle": "2020-10-22T13:13:40.079418Z",
     "shell.execute_reply": "2020-10-22T13:13:40.078581Z"
    },
    "papermill": {
     "duration": 0.093271,
     "end_time": "2020-10-22T13:13:40.079555",
     "exception": false,
     "start_time": "2020-10-22T13:13:39.986284",
     "status": "completed"
    },
    "tags": []
   },
   "outputs": [],
   "source": [
    "column_names = [\"id\",\"Prediction\"]\n",
    "sample=pd.DataFrame(columns=column_names)\n",
    "sample[\"id\"]=df[\"Id\"]"
   ]
  },
  {
   "cell_type": "code",
   "execution_count": 5,
   "metadata": {
    "execution": {
     "iopub.execute_input": "2020-10-22T13:13:40.190884Z",
     "iopub.status.busy": "2020-10-22T13:13:40.189675Z",
     "iopub.status.idle": "2020-10-22T13:13:40.233119Z",
     "shell.execute_reply": "2020-10-22T13:13:40.233764Z"
    },
    "papermill": {
     "duration": 0.1066,
     "end_time": "2020-10-22T13:13:40.233923",
     "exception": false,
     "start_time": "2020-10-22T13:13:40.127323",
     "status": "completed"
    },
    "tags": []
   },
   "outputs": [
    {
     "data": {
      "text/html": [
       "<div>\n",
       "<style scoped>\n",
       "    .dataframe tbody tr th:only-of-type {\n",
       "        vertical-align: middle;\n",
       "    }\n",
       "\n",
       "    .dataframe tbody tr th {\n",
       "        vertical-align: top;\n",
       "    }\n",
       "\n",
       "    .dataframe thead th {\n",
       "        text-align: right;\n",
       "    }\n",
       "</style>\n",
       "<table border=\"1\" class=\"dataframe\">\n",
       "  <thead>\n",
       "    <tr style=\"text-align: right;\">\n",
       "      <th></th>\n",
       "      <th>Id</th>\n",
       "      <th>Open Date</th>\n",
       "      <th>City</th>\n",
       "      <th>City Group</th>\n",
       "      <th>Type</th>\n",
       "      <th>P1</th>\n",
       "      <th>P2</th>\n",
       "      <th>P3</th>\n",
       "      <th>P4</th>\n",
       "      <th>P5</th>\n",
       "      <th>...</th>\n",
       "      <th>P29</th>\n",
       "      <th>P30</th>\n",
       "      <th>P31</th>\n",
       "      <th>P32</th>\n",
       "      <th>P33</th>\n",
       "      <th>P34</th>\n",
       "      <th>P35</th>\n",
       "      <th>P36</th>\n",
       "      <th>P37</th>\n",
       "      <th>revenue</th>\n",
       "    </tr>\n",
       "  </thead>\n",
       "  <tbody>\n",
       "    <tr>\n",
       "      <th>0</th>\n",
       "      <td>0</td>\n",
       "      <td>07/17/1999</td>\n",
       "      <td>İstanbul</td>\n",
       "      <td>Big Cities</td>\n",
       "      <td>IL</td>\n",
       "      <td>4</td>\n",
       "      <td>5.0</td>\n",
       "      <td>4.0</td>\n",
       "      <td>4.0</td>\n",
       "      <td>2</td>\n",
       "      <td>...</td>\n",
       "      <td>3.0</td>\n",
       "      <td>5</td>\n",
       "      <td>3</td>\n",
       "      <td>4</td>\n",
       "      <td>5</td>\n",
       "      <td>5</td>\n",
       "      <td>4</td>\n",
       "      <td>3</td>\n",
       "      <td>4</td>\n",
       "      <td>5653753.0</td>\n",
       "    </tr>\n",
       "    <tr>\n",
       "      <th>1</th>\n",
       "      <td>1</td>\n",
       "      <td>02/14/2008</td>\n",
       "      <td>Ankara</td>\n",
       "      <td>Big Cities</td>\n",
       "      <td>FC</td>\n",
       "      <td>4</td>\n",
       "      <td>5.0</td>\n",
       "      <td>4.0</td>\n",
       "      <td>4.0</td>\n",
       "      <td>1</td>\n",
       "      <td>...</td>\n",
       "      <td>3.0</td>\n",
       "      <td>0</td>\n",
       "      <td>0</td>\n",
       "      <td>0</td>\n",
       "      <td>0</td>\n",
       "      <td>0</td>\n",
       "      <td>0</td>\n",
       "      <td>0</td>\n",
       "      <td>0</td>\n",
       "      <td>6923131.0</td>\n",
       "    </tr>\n",
       "    <tr>\n",
       "      <th>2</th>\n",
       "      <td>2</td>\n",
       "      <td>03/09/2013</td>\n",
       "      <td>Diyarbakır</td>\n",
       "      <td>Other</td>\n",
       "      <td>IL</td>\n",
       "      <td>2</td>\n",
       "      <td>4.0</td>\n",
       "      <td>2.0</td>\n",
       "      <td>5.0</td>\n",
       "      <td>2</td>\n",
       "      <td>...</td>\n",
       "      <td>3.0</td>\n",
       "      <td>0</td>\n",
       "      <td>0</td>\n",
       "      <td>0</td>\n",
       "      <td>0</td>\n",
       "      <td>0</td>\n",
       "      <td>0</td>\n",
       "      <td>0</td>\n",
       "      <td>0</td>\n",
       "      <td>2055379.0</td>\n",
       "    </tr>\n",
       "    <tr>\n",
       "      <th>3</th>\n",
       "      <td>3</td>\n",
       "      <td>02/02/2012</td>\n",
       "      <td>Tokat</td>\n",
       "      <td>Other</td>\n",
       "      <td>IL</td>\n",
       "      <td>6</td>\n",
       "      <td>4.5</td>\n",
       "      <td>6.0</td>\n",
       "      <td>6.0</td>\n",
       "      <td>4</td>\n",
       "      <td>...</td>\n",
       "      <td>7.5</td>\n",
       "      <td>25</td>\n",
       "      <td>12</td>\n",
       "      <td>10</td>\n",
       "      <td>6</td>\n",
       "      <td>18</td>\n",
       "      <td>12</td>\n",
       "      <td>12</td>\n",
       "      <td>6</td>\n",
       "      <td>2675511.0</td>\n",
       "    </tr>\n",
       "    <tr>\n",
       "      <th>4</th>\n",
       "      <td>4</td>\n",
       "      <td>05/09/2009</td>\n",
       "      <td>Gaziantep</td>\n",
       "      <td>Other</td>\n",
       "      <td>IL</td>\n",
       "      <td>3</td>\n",
       "      <td>4.0</td>\n",
       "      <td>3.0</td>\n",
       "      <td>4.0</td>\n",
       "      <td>2</td>\n",
       "      <td>...</td>\n",
       "      <td>3.0</td>\n",
       "      <td>5</td>\n",
       "      <td>1</td>\n",
       "      <td>3</td>\n",
       "      <td>2</td>\n",
       "      <td>3</td>\n",
       "      <td>4</td>\n",
       "      <td>3</td>\n",
       "      <td>3</td>\n",
       "      <td>4316715.0</td>\n",
       "    </tr>\n",
       "    <tr>\n",
       "      <th>...</th>\n",
       "      <td>...</td>\n",
       "      <td>...</td>\n",
       "      <td>...</td>\n",
       "      <td>...</td>\n",
       "      <td>...</td>\n",
       "      <td>...</td>\n",
       "      <td>...</td>\n",
       "      <td>...</td>\n",
       "      <td>...</td>\n",
       "      <td>...</td>\n",
       "      <td>...</td>\n",
       "      <td>...</td>\n",
       "      <td>...</td>\n",
       "      <td>...</td>\n",
       "      <td>...</td>\n",
       "      <td>...</td>\n",
       "      <td>...</td>\n",
       "      <td>...</td>\n",
       "      <td>...</td>\n",
       "      <td>...</td>\n",
       "      <td>...</td>\n",
       "    </tr>\n",
       "    <tr>\n",
       "      <th>132</th>\n",
       "      <td>132</td>\n",
       "      <td>06/25/2008</td>\n",
       "      <td>Trabzon</td>\n",
       "      <td>Other</td>\n",
       "      <td>FC</td>\n",
       "      <td>2</td>\n",
       "      <td>3.0</td>\n",
       "      <td>3.0</td>\n",
       "      <td>5.0</td>\n",
       "      <td>4</td>\n",
       "      <td>...</td>\n",
       "      <td>3.0</td>\n",
       "      <td>0</td>\n",
       "      <td>0</td>\n",
       "      <td>0</td>\n",
       "      <td>0</td>\n",
       "      <td>0</td>\n",
       "      <td>0</td>\n",
       "      <td>0</td>\n",
       "      <td>0</td>\n",
       "      <td>5787594.0</td>\n",
       "    </tr>\n",
       "    <tr>\n",
       "      <th>133</th>\n",
       "      <td>133</td>\n",
       "      <td>10/12/2006</td>\n",
       "      <td>İzmir</td>\n",
       "      <td>Big Cities</td>\n",
       "      <td>FC</td>\n",
       "      <td>4</td>\n",
       "      <td>5.0</td>\n",
       "      <td>4.0</td>\n",
       "      <td>4.0</td>\n",
       "      <td>2</td>\n",
       "      <td>...</td>\n",
       "      <td>3.0</td>\n",
       "      <td>0</td>\n",
       "      <td>0</td>\n",
       "      <td>0</td>\n",
       "      <td>0</td>\n",
       "      <td>0</td>\n",
       "      <td>0</td>\n",
       "      <td>0</td>\n",
       "      <td>0</td>\n",
       "      <td>9262754.0</td>\n",
       "    </tr>\n",
       "    <tr>\n",
       "      <th>134</th>\n",
       "      <td>134</td>\n",
       "      <td>07/08/2006</td>\n",
       "      <td>Kayseri</td>\n",
       "      <td>Other</td>\n",
       "      <td>FC</td>\n",
       "      <td>3</td>\n",
       "      <td>4.0</td>\n",
       "      <td>4.0</td>\n",
       "      <td>4.0</td>\n",
       "      <td>2</td>\n",
       "      <td>...</td>\n",
       "      <td>3.0</td>\n",
       "      <td>0</td>\n",
       "      <td>0</td>\n",
       "      <td>0</td>\n",
       "      <td>0</td>\n",
       "      <td>0</td>\n",
       "      <td>0</td>\n",
       "      <td>0</td>\n",
       "      <td>0</td>\n",
       "      <td>2544857.0</td>\n",
       "    </tr>\n",
       "    <tr>\n",
       "      <th>135</th>\n",
       "      <td>135</td>\n",
       "      <td>10/29/2010</td>\n",
       "      <td>İstanbul</td>\n",
       "      <td>Big Cities</td>\n",
       "      <td>FC</td>\n",
       "      <td>4</td>\n",
       "      <td>5.0</td>\n",
       "      <td>4.0</td>\n",
       "      <td>5.0</td>\n",
       "      <td>2</td>\n",
       "      <td>...</td>\n",
       "      <td>3.0</td>\n",
       "      <td>0</td>\n",
       "      <td>0</td>\n",
       "      <td>0</td>\n",
       "      <td>0</td>\n",
       "      <td>0</td>\n",
       "      <td>0</td>\n",
       "      <td>0</td>\n",
       "      <td>0</td>\n",
       "      <td>7217634.0</td>\n",
       "    </tr>\n",
       "    <tr>\n",
       "      <th>136</th>\n",
       "      <td>136</td>\n",
       "      <td>09/01/2009</td>\n",
       "      <td>İstanbul</td>\n",
       "      <td>Big Cities</td>\n",
       "      <td>FC</td>\n",
       "      <td>4</td>\n",
       "      <td>5.0</td>\n",
       "      <td>3.0</td>\n",
       "      <td>5.0</td>\n",
       "      <td>2</td>\n",
       "      <td>...</td>\n",
       "      <td>3.0</td>\n",
       "      <td>0</td>\n",
       "      <td>0</td>\n",
       "      <td>0</td>\n",
       "      <td>0</td>\n",
       "      <td>0</td>\n",
       "      <td>0</td>\n",
       "      <td>0</td>\n",
       "      <td>0</td>\n",
       "      <td>6363241.0</td>\n",
       "    </tr>\n",
       "  </tbody>\n",
       "</table>\n",
       "<p>137 rows × 43 columns</p>\n",
       "</div>"
      ],
      "text/plain": [
       "      Id   Open Date        City  City Group Type  P1   P2   P3   P4  P5  ...  \\\n",
       "0      0  07/17/1999    İstanbul  Big Cities   IL   4  5.0  4.0  4.0   2  ...   \n",
       "1      1  02/14/2008      Ankara  Big Cities   FC   4  5.0  4.0  4.0   1  ...   \n",
       "2      2  03/09/2013  Diyarbakır       Other   IL   2  4.0  2.0  5.0   2  ...   \n",
       "3      3  02/02/2012       Tokat       Other   IL   6  4.5  6.0  6.0   4  ...   \n",
       "4      4  05/09/2009   Gaziantep       Other   IL   3  4.0  3.0  4.0   2  ...   \n",
       "..   ...         ...         ...         ...  ...  ..  ...  ...  ...  ..  ...   \n",
       "132  132  06/25/2008     Trabzon       Other   FC   2  3.0  3.0  5.0   4  ...   \n",
       "133  133  10/12/2006       İzmir  Big Cities   FC   4  5.0  4.0  4.0   2  ...   \n",
       "134  134  07/08/2006     Kayseri       Other   FC   3  4.0  4.0  4.0   2  ...   \n",
       "135  135  10/29/2010    İstanbul  Big Cities   FC   4  5.0  4.0  5.0   2  ...   \n",
       "136  136  09/01/2009    İstanbul  Big Cities   FC   4  5.0  3.0  5.0   2  ...   \n",
       "\n",
       "     P29  P30  P31  P32  P33  P34  P35  P36  P37    revenue  \n",
       "0    3.0    5    3    4    5    5    4    3    4  5653753.0  \n",
       "1    3.0    0    0    0    0    0    0    0    0  6923131.0  \n",
       "2    3.0    0    0    0    0    0    0    0    0  2055379.0  \n",
       "3    7.5   25   12   10    6   18   12   12    6  2675511.0  \n",
       "4    3.0    5    1    3    2    3    4    3    3  4316715.0  \n",
       "..   ...  ...  ...  ...  ...  ...  ...  ...  ...        ...  \n",
       "132  3.0    0    0    0    0    0    0    0    0  5787594.0  \n",
       "133  3.0    0    0    0    0    0    0    0    0  9262754.0  \n",
       "134  3.0    0    0    0    0    0    0    0    0  2544857.0  \n",
       "135  3.0    0    0    0    0    0    0    0    0  7217634.0  \n",
       "136  3.0    0    0    0    0    0    0    0    0  6363241.0  \n",
       "\n",
       "[137 rows x 43 columns]"
      ]
     },
     "execution_count": 5,
     "metadata": {},
     "output_type": "execute_result"
    }
   ],
   "source": [
    "trainData"
   ]
  },
  {
   "cell_type": "markdown",
   "metadata": {
    "papermill": {
     "duration": 0.0477,
     "end_time": "2020-10-22T13:13:40.330911",
     "exception": false,
     "start_time": "2020-10-22T13:13:40.283211",
     "status": "completed"
    },
    "tags": []
   },
   "source": [
    "# first modifying The OpenDate column "
   ]
  },
  {
   "cell_type": "code",
   "execution_count": 6,
   "metadata": {
    "execution": {
     "iopub.execute_input": "2020-10-22T13:13:40.441468Z",
     "iopub.status.busy": "2020-10-22T13:13:40.440687Z",
     "iopub.status.idle": "2020-10-22T13:13:40.470616Z",
     "shell.execute_reply": "2020-10-22T13:13:40.471267Z"
    },
    "papermill": {
     "duration": 0.092522,
     "end_time": "2020-10-22T13:13:40.471435",
     "exception": false,
     "start_time": "2020-10-22T13:13:40.378913",
     "status": "completed"
    },
    "tags": []
   },
   "outputs": [],
   "source": [
    "trainData['Open Date'] = pd.to_datetime(trainData['Open Date'], format='%m/%d/%Y')\n",
    "df['Open Date'] = pd.to_datetime(df['Open Date'], format='%m/%d/%Y')"
   ]
  },
  {
   "cell_type": "code",
   "execution_count": 7,
   "metadata": {
    "execution": {
     "iopub.execute_input": "2020-10-22T13:13:40.578011Z",
     "iopub.status.busy": "2020-10-22T13:13:40.576456Z",
     "iopub.status.idle": "2020-10-22T13:13:40.581196Z",
     "shell.execute_reply": "2020-10-22T13:13:40.580599Z"
    },
    "papermill": {
     "duration": 0.060241,
     "end_time": "2020-10-22T13:13:40.581350",
     "exception": false,
     "start_time": "2020-10-22T13:13:40.521109",
     "status": "completed"
    },
    "tags": []
   },
   "outputs": [],
   "source": [
    "trainData['OpenDays']=\"\"\n",
    "df['OpenDays']=\"\""
   ]
  },
  {
   "cell_type": "code",
   "execution_count": 8,
   "metadata": {
    "execution": {
     "iopub.execute_input": "2020-10-22T13:13:40.685454Z",
     "iopub.status.busy": "2020-10-22T13:13:40.684710Z",
     "iopub.status.idle": "2020-10-22T13:13:40.703661Z",
     "shell.execute_reply": "2020-10-22T13:13:40.702877Z"
    },
    "papermill": {
     "duration": 0.074431,
     "end_time": "2020-10-22T13:13:40.703786",
     "exception": false,
     "start_time": "2020-10-22T13:13:40.629355",
     "status": "completed"
    },
    "tags": []
   },
   "outputs": [],
   "source": [
    "dateLastTrain = pd.DataFrame({'Date':np.repeat(['01/01/2015'],[len(trainData)]) })\n",
    "dateLastTest = pd.DataFrame({'Date':np.repeat(['01/01/2015'],[len(df)]) })"
   ]
  },
  {
   "cell_type": "code",
   "execution_count": 9,
   "metadata": {
    "execution": {
     "iopub.execute_input": "2020-10-22T13:13:40.815952Z",
     "iopub.status.busy": "2020-10-22T13:13:40.814820Z",
     "iopub.status.idle": "2020-10-22T13:13:40.842951Z",
     "shell.execute_reply": "2020-10-22T13:13:40.842264Z"
    },
    "papermill": {
     "duration": 0.090341,
     "end_time": "2020-10-22T13:13:40.843089",
     "exception": false,
     "start_time": "2020-10-22T13:13:40.752748",
     "status": "completed"
    },
    "tags": []
   },
   "outputs": [],
   "source": [
    "dateLastTrain['Date'] = pd.to_datetime(dateLastTrain['Date'], format='%m/%d/%Y') \n",
    "dateLastTest['Date'] = pd.to_datetime(dateLastTest['Date'], format='%m/%d/%Y') "
   ]
  },
  {
   "cell_type": "code",
   "execution_count": 10,
   "metadata": {
    "execution": {
     "iopub.execute_input": "2020-10-22T13:13:40.950960Z",
     "iopub.status.busy": "2020-10-22T13:13:40.945454Z",
     "iopub.status.idle": "2020-10-22T13:13:40.977886Z",
     "shell.execute_reply": "2020-10-22T13:13:40.977053Z"
    },
    "papermill": {
     "duration": 0.086411,
     "end_time": "2020-10-22T13:13:40.978025",
     "exception": false,
     "start_time": "2020-10-22T13:13:40.891614",
     "status": "completed"
    },
    "tags": []
   },
   "outputs": [
    {
     "data": {
      "text/html": [
       "<div>\n",
       "<style scoped>\n",
       "    .dataframe tbody tr th:only-of-type {\n",
       "        vertical-align: middle;\n",
       "    }\n",
       "\n",
       "    .dataframe tbody tr th {\n",
       "        vertical-align: top;\n",
       "    }\n",
       "\n",
       "    .dataframe thead th {\n",
       "        text-align: right;\n",
       "    }\n",
       "</style>\n",
       "<table border=\"1\" class=\"dataframe\">\n",
       "  <thead>\n",
       "    <tr style=\"text-align: right;\">\n",
       "      <th></th>\n",
       "      <th>Id</th>\n",
       "      <th>Open Date</th>\n",
       "      <th>City</th>\n",
       "      <th>City Group</th>\n",
       "      <th>Type</th>\n",
       "      <th>P1</th>\n",
       "      <th>P2</th>\n",
       "      <th>P3</th>\n",
       "      <th>P4</th>\n",
       "      <th>P5</th>\n",
       "      <th>...</th>\n",
       "      <th>P29</th>\n",
       "      <th>P30</th>\n",
       "      <th>P31</th>\n",
       "      <th>P32</th>\n",
       "      <th>P33</th>\n",
       "      <th>P34</th>\n",
       "      <th>P35</th>\n",
       "      <th>P36</th>\n",
       "      <th>P37</th>\n",
       "      <th>OpenDays</th>\n",
       "    </tr>\n",
       "  </thead>\n",
       "  <tbody>\n",
       "    <tr>\n",
       "      <th>0</th>\n",
       "      <td>0</td>\n",
       "      <td>2011-01-22</td>\n",
       "      <td>Niğde</td>\n",
       "      <td>Other</td>\n",
       "      <td>FC</td>\n",
       "      <td>1</td>\n",
       "      <td>4.0</td>\n",
       "      <td>4.0</td>\n",
       "      <td>4.0</td>\n",
       "      <td>1</td>\n",
       "      <td>...</td>\n",
       "      <td>3.0</td>\n",
       "      <td>0</td>\n",
       "      <td>0</td>\n",
       "      <td>0</td>\n",
       "      <td>0</td>\n",
       "      <td>0</td>\n",
       "      <td>0</td>\n",
       "      <td>0</td>\n",
       "      <td>0</td>\n",
       "      <td></td>\n",
       "    </tr>\n",
       "    <tr>\n",
       "      <th>1</th>\n",
       "      <td>1</td>\n",
       "      <td>2011-03-18</td>\n",
       "      <td>Konya</td>\n",
       "      <td>Other</td>\n",
       "      <td>IL</td>\n",
       "      <td>3</td>\n",
       "      <td>4.0</td>\n",
       "      <td>4.0</td>\n",
       "      <td>4.0</td>\n",
       "      <td>2</td>\n",
       "      <td>...</td>\n",
       "      <td>3.0</td>\n",
       "      <td>0</td>\n",
       "      <td>0</td>\n",
       "      <td>0</td>\n",
       "      <td>0</td>\n",
       "      <td>0</td>\n",
       "      <td>0</td>\n",
       "      <td>0</td>\n",
       "      <td>0</td>\n",
       "      <td></td>\n",
       "    </tr>\n",
       "    <tr>\n",
       "      <th>2</th>\n",
       "      <td>2</td>\n",
       "      <td>2013-10-30</td>\n",
       "      <td>Ankara</td>\n",
       "      <td>Big Cities</td>\n",
       "      <td>FC</td>\n",
       "      <td>3</td>\n",
       "      <td>4.0</td>\n",
       "      <td>4.0</td>\n",
       "      <td>4.0</td>\n",
       "      <td>2</td>\n",
       "      <td>...</td>\n",
       "      <td>3.0</td>\n",
       "      <td>0</td>\n",
       "      <td>0</td>\n",
       "      <td>0</td>\n",
       "      <td>0</td>\n",
       "      <td>0</td>\n",
       "      <td>0</td>\n",
       "      <td>0</td>\n",
       "      <td>0</td>\n",
       "      <td></td>\n",
       "    </tr>\n",
       "    <tr>\n",
       "      <th>3</th>\n",
       "      <td>3</td>\n",
       "      <td>2013-05-06</td>\n",
       "      <td>Kocaeli</td>\n",
       "      <td>Other</td>\n",
       "      <td>IL</td>\n",
       "      <td>2</td>\n",
       "      <td>4.0</td>\n",
       "      <td>4.0</td>\n",
       "      <td>4.0</td>\n",
       "      <td>2</td>\n",
       "      <td>...</td>\n",
       "      <td>3.0</td>\n",
       "      <td>0</td>\n",
       "      <td>4</td>\n",
       "      <td>0</td>\n",
       "      <td>0</td>\n",
       "      <td>0</td>\n",
       "      <td>0</td>\n",
       "      <td>0</td>\n",
       "      <td>0</td>\n",
       "      <td></td>\n",
       "    </tr>\n",
       "    <tr>\n",
       "      <th>4</th>\n",
       "      <td>4</td>\n",
       "      <td>2013-07-31</td>\n",
       "      <td>Afyonkarahisar</td>\n",
       "      <td>Other</td>\n",
       "      <td>FC</td>\n",
       "      <td>2</td>\n",
       "      <td>4.0</td>\n",
       "      <td>4.0</td>\n",
       "      <td>4.0</td>\n",
       "      <td>1</td>\n",
       "      <td>...</td>\n",
       "      <td>3.0</td>\n",
       "      <td>0</td>\n",
       "      <td>0</td>\n",
       "      <td>0</td>\n",
       "      <td>0</td>\n",
       "      <td>0</td>\n",
       "      <td>0</td>\n",
       "      <td>0</td>\n",
       "      <td>0</td>\n",
       "      <td></td>\n",
       "    </tr>\n",
       "  </tbody>\n",
       "</table>\n",
       "<p>5 rows × 43 columns</p>\n",
       "</div>"
      ],
      "text/plain": [
       "   Id  Open Date            City  City Group Type  P1   P2   P3   P4  P5  ...  \\\n",
       "0   0 2011-01-22           Niğde       Other   FC   1  4.0  4.0  4.0   1  ...   \n",
       "1   1 2011-03-18           Konya       Other   IL   3  4.0  4.0  4.0   2  ...   \n",
       "2   2 2013-10-30          Ankara  Big Cities   FC   3  4.0  4.0  4.0   2  ...   \n",
       "3   3 2013-05-06         Kocaeli       Other   IL   2  4.0  4.0  4.0   2  ...   \n",
       "4   4 2013-07-31  Afyonkarahisar       Other   FC   2  4.0  4.0  4.0   1  ...   \n",
       "\n",
       "   P29  P30  P31  P32  P33  P34  P35  P36  P37  OpenDays  \n",
       "0  3.0    0    0    0    0    0    0    0    0            \n",
       "1  3.0    0    0    0    0    0    0    0    0            \n",
       "2  3.0    0    0    0    0    0    0    0    0            \n",
       "3  3.0    0    4    0    0    0    0    0    0            \n",
       "4  3.0    0    0    0    0    0    0    0    0            \n",
       "\n",
       "[5 rows x 43 columns]"
      ]
     },
     "execution_count": 10,
     "metadata": {},
     "output_type": "execute_result"
    }
   ],
   "source": [
    "df.head()"
   ]
  },
  {
   "cell_type": "code",
   "execution_count": 11,
   "metadata": {
    "execution": {
     "iopub.execute_input": "2020-10-22T13:13:41.086342Z",
     "iopub.status.busy": "2020-10-22T13:13:41.085530Z",
     "iopub.status.idle": "2020-10-22T13:13:41.091685Z",
     "shell.execute_reply": "2020-10-22T13:13:41.090930Z"
    },
    "papermill": {
     "duration": 0.063575,
     "end_time": "2020-10-22T13:13:41.091837",
     "exception": false,
     "start_time": "2020-10-22T13:13:41.028262",
     "status": "completed"
    },
    "tags": []
   },
   "outputs": [],
   "source": [
    "trainData['OpenDays'] = dateLastTrain['Date'] - trainData['Open Date']\n",
    "df['OpenDays'] = dateLastTest['Date'] - df['Open Date']"
   ]
  },
  {
   "cell_type": "code",
   "execution_count": 12,
   "metadata": {
    "execution": {
     "iopub.execute_input": "2020-10-22T13:13:41.202099Z",
     "iopub.status.busy": "2020-10-22T13:13:41.201313Z",
     "iopub.status.idle": "2020-10-22T13:13:41.207197Z",
     "shell.execute_reply": "2020-10-22T13:13:41.206557Z"
    },
    "papermill": {
     "duration": 0.064693,
     "end_time": "2020-10-22T13:13:41.207339",
     "exception": false,
     "start_time": "2020-10-22T13:13:41.142646",
     "status": "completed"
    },
    "tags": []
   },
   "outputs": [],
   "source": [
    "trainData['OpenDays'] = trainData['OpenDays'].astype('timedelta64[D]').astype(int)\n",
    "df['OpenDays'] = df['OpenDays'].astype('timedelta64[D]').astype(int)"
   ]
  },
  {
   "cell_type": "markdown",
   "metadata": {
    "papermill": {
     "duration": 0.049569,
     "end_time": "2020-10-22T13:13:41.307300",
     "exception": false,
     "start_time": "2020-10-22T13:13:41.257731",
     "status": "completed"
    },
    "tags": []
   },
   "source": [
    "# now looking at the City group column"
   ]
  },
  {
   "cell_type": "code",
   "execution_count": 13,
   "metadata": {
    "execution": {
     "iopub.execute_input": "2020-10-22T13:13:41.416623Z",
     "iopub.status.busy": "2020-10-22T13:13:41.414262Z",
     "iopub.status.idle": "2020-10-22T13:13:41.425331Z",
     "shell.execute_reply": "2020-10-22T13:13:41.424275Z"
    },
    "papermill": {
     "duration": 0.067591,
     "end_time": "2020-10-22T13:13:41.425472",
     "exception": false,
     "start_time": "2020-10-22T13:13:41.357881",
     "status": "completed"
    },
    "tags": []
   },
   "outputs": [],
   "source": [
    "cityPerc = trainData[[\"City Group\", \"revenue\"]].groupby(['City Group'],as_index=False).mean()"
   ]
  },
  {
   "cell_type": "code",
   "execution_count": 14,
   "metadata": {
    "execution": {
     "iopub.execute_input": "2020-10-22T13:13:41.542275Z",
     "iopub.status.busy": "2020-10-22T13:13:41.541468Z",
     "iopub.status.idle": "2020-10-22T13:13:41.743998Z",
     "shell.execute_reply": "2020-10-22T13:13:41.743222Z"
    },
    "papermill": {
     "duration": 0.267269,
     "end_time": "2020-10-22T13:13:41.744120",
     "exception": false,
     "start_time": "2020-10-22T13:13:41.476851",
     "status": "completed"
    },
    "tags": []
   },
   "outputs": [
    {
     "data": {
      "text/plain": [
       "<matplotlib.axes._subplots.AxesSubplot at 0x7f3f21b1c750>"
      ]
     },
     "execution_count": 14,
     "metadata": {},
     "output_type": "execute_result"
    },
    {
     "data": {
      "image/png": "[encoded data removed]",
      "text/plain": [
       "<Figure size 432x288 with 1 Axes>"
      ]
     },
     "metadata": {
      "needs_background": "light"
     },
     "output_type": "display_data"
    }
   ],
   "source": [
    "sns.barplot(x='City Group', y='revenue', data=cityPerc)"
   ]
  },
  {
   "cell_type": "code",
   "execution_count": 15,
   "metadata": {
    "execution": {
     "iopub.execute_input": "2020-10-22T13:13:41.860094Z",
     "iopub.status.busy": "2020-10-22T13:13:41.853718Z",
     "iopub.status.idle": "2020-10-22T13:13:41.877093Z",
     "shell.execute_reply": "2020-10-22T13:13:41.876471Z"
    },
    "papermill": {
     "duration": 0.08105,
     "end_time": "2020-10-22T13:13:41.877251",
     "exception": false,
     "start_time": "2020-10-22T13:13:41.796201",
     "status": "completed"
    },
    "tags": []
   },
   "outputs": [
    {
     "data": {
      "text/html": [
       "<div>\n",
       "<style scoped>\n",
       "    .dataframe tbody tr th:only-of-type {\n",
       "        vertical-align: middle;\n",
       "    }\n",
       "\n",
       "    .dataframe tbody tr th {\n",
       "        vertical-align: top;\n",
       "    }\n",
       "\n",
       "    .dataframe thead th {\n",
       "        text-align: right;\n",
       "    }\n",
       "</style>\n",
       "<table border=\"1\" class=\"dataframe\">\n",
       "  <thead>\n",
       "    <tr style=\"text-align: right;\">\n",
       "      <th></th>\n",
       "      <th>Big Cities</th>\n",
       "      <th>Other</th>\n",
       "    </tr>\n",
       "  </thead>\n",
       "  <tbody>\n",
       "    <tr>\n",
       "      <th>0</th>\n",
       "      <td>1</td>\n",
       "      <td>0</td>\n",
       "    </tr>\n",
       "    <tr>\n",
       "      <th>1</th>\n",
       "      <td>1</td>\n",
       "      <td>0</td>\n",
       "    </tr>\n",
       "    <tr>\n",
       "      <th>2</th>\n",
       "      <td>0</td>\n",
       "      <td>1</td>\n",
       "    </tr>\n",
       "    <tr>\n",
       "      <th>3</th>\n",
       "      <td>0</td>\n",
       "      <td>1</td>\n",
       "    </tr>\n",
       "    <tr>\n",
       "      <th>4</th>\n",
       "      <td>0</td>\n",
       "      <td>1</td>\n",
       "    </tr>\n",
       "    <tr>\n",
       "      <th>...</th>\n",
       "      <td>...</td>\n",
       "      <td>...</td>\n",
       "    </tr>\n",
       "    <tr>\n",
       "      <th>132</th>\n",
       "      <td>0</td>\n",
       "      <td>1</td>\n",
       "    </tr>\n",
       "    <tr>\n",
       "      <th>133</th>\n",
       "      <td>1</td>\n",
       "      <td>0</td>\n",
       "    </tr>\n",
       "    <tr>\n",
       "      <th>134</th>\n",
       "      <td>0</td>\n",
       "      <td>1</td>\n",
       "    </tr>\n",
       "    <tr>\n",
       "      <th>135</th>\n",
       "      <td>1</td>\n",
       "      <td>0</td>\n",
       "    </tr>\n",
       "    <tr>\n",
       "      <th>136</th>\n",
       "      <td>1</td>\n",
       "      <td>0</td>\n",
       "    </tr>\n",
       "  </tbody>\n",
       "</table>\n",
       "<p>137 rows × 2 columns</p>\n",
       "</div>"
      ],
      "text/plain": [
       "     Big Cities  Other\n",
       "0             1      0\n",
       "1             1      0\n",
       "2             0      1\n",
       "3             0      1\n",
       "4             0      1\n",
       "..          ...    ...\n",
       "132           0      1\n",
       "133           1      0\n",
       "134           0      1\n",
       "135           1      0\n",
       "136           1      0\n",
       "\n",
       "[137 rows x 2 columns]"
      ]
     },
     "execution_count": 15,
     "metadata": {},
     "output_type": "execute_result"
    }
   ],
   "source": [
    "citygroupDummy = pd.get_dummies(trainData['City Group'])\n",
    "citygroupD = pd.get_dummies(df['City Group'])\n",
    "citygroupDummy"
   ]
  },
  {
   "cell_type": "code",
   "execution_count": 16,
   "metadata": {
    "execution": {
     "iopub.execute_input": "2020-10-22T13:13:41.993803Z",
     "iopub.status.busy": "2020-10-22T13:13:41.992186Z",
     "iopub.status.idle": "2020-10-22T13:13:42.023002Z",
     "shell.execute_reply": "2020-10-22T13:13:42.022261Z"
    },
    "papermill": {
     "duration": 0.09348,
     "end_time": "2020-10-22T13:13:42.023141",
     "exception": false,
     "start_time": "2020-10-22T13:13:41.929661",
     "status": "completed"
    },
    "tags": []
   },
   "outputs": [],
   "source": [
    "trainData = trainData.join(citygroupDummy)\n",
    "df = df.join(citygroupD)"
   ]
  },
  {
   "cell_type": "code",
   "execution_count": 17,
   "metadata": {
    "execution": {
     "iopub.execute_input": "2020-10-22T13:13:42.137753Z",
     "iopub.status.busy": "2020-10-22T13:13:42.134932Z",
     "iopub.status.idle": "2020-10-22T13:13:42.192170Z",
     "shell.execute_reply": "2020-10-22T13:13:42.192810Z"
    },
    "papermill": {
     "duration": 0.116827,
     "end_time": "2020-10-22T13:13:42.192986",
     "exception": false,
     "start_time": "2020-10-22T13:13:42.076159",
     "status": "completed"
    },
    "tags": []
   },
   "outputs": [],
   "source": [
    "trainData = trainData.drop('City Group', axis=1)\n",
    "df = df.drop('City Group', axis=1)"
   ]
  },
  {
   "cell_type": "code",
   "execution_count": 18,
   "metadata": {
    "execution": {
     "iopub.execute_input": "2020-10-22T13:13:42.316424Z",
     "iopub.status.busy": "2020-10-22T13:13:42.315627Z",
     "iopub.status.idle": "2020-10-22T13:13:42.325799Z",
     "shell.execute_reply": "2020-10-22T13:13:42.326407Z"
    },
    "papermill": {
     "duration": 0.080643,
     "end_time": "2020-10-22T13:13:42.326583",
     "exception": false,
     "start_time": "2020-10-22T13:13:42.245940",
     "status": "completed"
    },
    "tags": []
   },
   "outputs": [],
   "source": [
    "trainData = trainData.drop('Open Date', axis=1)\n",
    "df = df.drop('Open Date', axis=1)"
   ]
  },
  {
   "cell_type": "markdown",
   "metadata": {
    "papermill": {
     "duration": 0.051942,
     "end_time": "2020-10-22T13:13:42.431251",
     "exception": false,
     "start_time": "2020-10-22T13:13:42.379309",
     "status": "completed"
    },
    "tags": []
   },
   "source": [
    "#we have to label encode the city column but we can't do directly\n",
    "#so we create a new column of city mean revenue\n"
   ]
  },
  {
   "cell_type": "code",
   "execution_count": 19,
   "metadata": {
    "execution": {
     "iopub.execute_input": "2020-10-22T13:13:42.548481Z",
     "iopub.status.busy": "2020-10-22T13:13:42.547681Z",
     "iopub.status.idle": "2020-10-22T13:13:42.926474Z",
     "shell.execute_reply": "2020-10-22T13:13:42.925807Z"
    },
    "papermill": {
     "duration": 0.442838,
     "end_time": "2020-10-22T13:13:42.926600",
     "exception": false,
     "start_time": "2020-10-22T13:13:42.483762",
     "status": "completed"
    },
    "tags": []
   },
   "outputs": [
    {
     "data": {
      "text/plain": [
       "<matplotlib.axes._subplots.AxesSubplot at 0x7f3f2138f250>"
      ]
     },
     "execution_count": 19,
     "metadata": {},
     "output_type": "execute_result"
    },
    {
     "data": {
      "image/png": "[encoded data removed]",
      "text/plain": [
       "<Figure size 432x288 with 1 Axes>"
      ]
     },
     "metadata": {
      "needs_background": "light"
     },
     "output_type": "display_data"
    }
   ],
   "source": [
    "trainData[[\"City\",\"revenue\"]].groupby([\"City\"]).mean().plot(kind=\"bar\")"
   ]
  },
  {
   "cell_type": "code",
   "execution_count": 20,
   "metadata": {
    "execution": {
     "iopub.execute_input": "2020-10-22T13:13:43.050784Z",
     "iopub.status.busy": "2020-10-22T13:13:43.050019Z",
     "iopub.status.idle": "2020-10-22T13:13:43.053676Z",
     "shell.execute_reply": "2020-10-22T13:13:43.053015Z"
    },
    "papermill": {
     "duration": 0.07163,
     "end_time": "2020-10-22T13:13:43.053822",
     "exception": false,
     "start_time": "2020-10-22T13:13:42.982192",
     "status": "completed"
    },
    "tags": []
   },
   "outputs": [],
   "source": [
    "mean_revenue_per_city = trainData[['City', 'revenue']].groupby('City', as_index=False).mean()\n",
    "mean_revenue_per_city['revenue'] = mean_revenue_per_city['revenue'].apply(lambda x: int(x/1e6)) "
   ]
  },
  {
   "cell_type": "code",
   "execution_count": 21,
   "metadata": {
    "execution": {
     "iopub.execute_input": "2020-10-22T13:13:43.179159Z",
     "iopub.status.busy": "2020-10-22T13:13:43.178114Z",
     "iopub.status.idle": "2020-10-22T13:13:43.183413Z",
     "shell.execute_reply": "2020-10-22T13:13:43.182645Z"
    },
    "papermill": {
     "duration": 0.074857,
     "end_time": "2020-10-22T13:13:43.183542",
     "exception": false,
     "start_time": "2020-10-22T13:13:43.108685",
     "status": "completed"
    },
    "tags": []
   },
   "outputs": [
    {
     "data": {
      "text/html": [
       "<div>\n",
       "<style scoped>\n",
       "    .dataframe tbody tr th:only-of-type {\n",
       "        vertical-align: middle;\n",
       "    }\n",
       "\n",
       "    .dataframe tbody tr th {\n",
       "        vertical-align: top;\n",
       "    }\n",
       "\n",
       "    .dataframe thead th {\n",
       "        text-align: right;\n",
       "    }\n",
       "</style>\n",
       "<table border=\"1\" class=\"dataframe\">\n",
       "  <thead>\n",
       "    <tr style=\"text-align: right;\">\n",
       "      <th></th>\n",
       "      <th>City</th>\n",
       "      <th>revenue</th>\n",
       "    </tr>\n",
       "  </thead>\n",
       "  <tbody>\n",
       "    <tr>\n",
       "      <th>0</th>\n",
       "      <td>Adana</td>\n",
       "      <td>4</td>\n",
       "    </tr>\n",
       "    <tr>\n",
       "      <th>1</th>\n",
       "      <td>Afyonkarahisar</td>\n",
       "      <td>4</td>\n",
       "    </tr>\n",
       "    <tr>\n",
       "      <th>2</th>\n",
       "      <td>Amasya</td>\n",
       "      <td>2</td>\n",
       "    </tr>\n",
       "    <tr>\n",
       "      <th>3</th>\n",
       "      <td>Ankara</td>\n",
       "      <td>3</td>\n",
       "    </tr>\n",
       "    <tr>\n",
       "      <th>4</th>\n",
       "      <td>Antalya</td>\n",
       "      <td>3</td>\n",
       "    </tr>\n",
       "    <tr>\n",
       "      <th>5</th>\n",
       "      <td>Aydın</td>\n",
       "      <td>3</td>\n",
       "    </tr>\n",
       "    <tr>\n",
       "      <th>6</th>\n",
       "      <td>Balıkesir</td>\n",
       "      <td>4</td>\n",
       "    </tr>\n",
       "    <tr>\n",
       "      <th>7</th>\n",
       "      <td>Bolu</td>\n",
       "      <td>4</td>\n",
       "    </tr>\n",
       "    <tr>\n",
       "      <th>8</th>\n",
       "      <td>Bursa</td>\n",
       "      <td>4</td>\n",
       "    </tr>\n",
       "    <tr>\n",
       "      <th>9</th>\n",
       "      <td>Denizli</td>\n",
       "      <td>2</td>\n",
       "    </tr>\n",
       "    <tr>\n",
       "      <th>10</th>\n",
       "      <td>Diyarbakır</td>\n",
       "      <td>3</td>\n",
       "    </tr>\n",
       "    <tr>\n",
       "      <th>11</th>\n",
       "      <td>Edirne</td>\n",
       "      <td>5</td>\n",
       "    </tr>\n",
       "    <tr>\n",
       "      <th>12</th>\n",
       "      <td>Elazığ</td>\n",
       "      <td>5</td>\n",
       "    </tr>\n",
       "    <tr>\n",
       "      <th>13</th>\n",
       "      <td>Eskişehir</td>\n",
       "      <td>3</td>\n",
       "    </tr>\n",
       "    <tr>\n",
       "      <th>14</th>\n",
       "      <td>Gaziantep</td>\n",
       "      <td>4</td>\n",
       "    </tr>\n",
       "    <tr>\n",
       "      <th>15</th>\n",
       "      <td>Isparta</td>\n",
       "      <td>4</td>\n",
       "    </tr>\n",
       "    <tr>\n",
       "      <th>16</th>\n",
       "      <td>Karabük</td>\n",
       "      <td>3</td>\n",
       "    </tr>\n",
       "    <tr>\n",
       "      <th>17</th>\n",
       "      <td>Kastamonu</td>\n",
       "      <td>3</td>\n",
       "    </tr>\n",
       "    <tr>\n",
       "      <th>18</th>\n",
       "      <td>Kayseri</td>\n",
       "      <td>4</td>\n",
       "    </tr>\n",
       "    <tr>\n",
       "      <th>19</th>\n",
       "      <td>Kocaeli</td>\n",
       "      <td>3</td>\n",
       "    </tr>\n",
       "    <tr>\n",
       "      <th>20</th>\n",
       "      <td>Konya</td>\n",
       "      <td>2</td>\n",
       "    </tr>\n",
       "    <tr>\n",
       "      <th>21</th>\n",
       "      <td>Kütahya</td>\n",
       "      <td>2</td>\n",
       "    </tr>\n",
       "    <tr>\n",
       "      <th>22</th>\n",
       "      <td>Kırklareli</td>\n",
       "      <td>1</td>\n",
       "    </tr>\n",
       "    <tr>\n",
       "      <th>23</th>\n",
       "      <td>Muğla</td>\n",
       "      <td>4</td>\n",
       "    </tr>\n",
       "    <tr>\n",
       "      <th>24</th>\n",
       "      <td>Osmaniye</td>\n",
       "      <td>3</td>\n",
       "    </tr>\n",
       "    <tr>\n",
       "      <th>25</th>\n",
       "      <td>Sakarya</td>\n",
       "      <td>3</td>\n",
       "    </tr>\n",
       "    <tr>\n",
       "      <th>26</th>\n",
       "      <td>Samsun</td>\n",
       "      <td>3</td>\n",
       "    </tr>\n",
       "    <tr>\n",
       "      <th>27</th>\n",
       "      <td>Tekirdağ</td>\n",
       "      <td>3</td>\n",
       "    </tr>\n",
       "    <tr>\n",
       "      <th>28</th>\n",
       "      <td>Tokat</td>\n",
       "      <td>2</td>\n",
       "    </tr>\n",
       "    <tr>\n",
       "      <th>29</th>\n",
       "      <td>Trabzon</td>\n",
       "      <td>5</td>\n",
       "    </tr>\n",
       "    <tr>\n",
       "      <th>30</th>\n",
       "      <td>Uşak</td>\n",
       "      <td>1</td>\n",
       "    </tr>\n",
       "    <tr>\n",
       "      <th>31</th>\n",
       "      <td>İstanbul</td>\n",
       "      <td>5</td>\n",
       "    </tr>\n",
       "    <tr>\n",
       "      <th>32</th>\n",
       "      <td>İzmir</td>\n",
       "      <td>5</td>\n",
       "    </tr>\n",
       "    <tr>\n",
       "      <th>33</th>\n",
       "      <td>Şanlıurfa</td>\n",
       "      <td>3</td>\n",
       "    </tr>\n",
       "  </tbody>\n",
       "</table>\n",
       "</div>"
      ],
      "text/plain": [
       "              City  revenue\n",
       "0            Adana        4\n",
       "1   Afyonkarahisar        4\n",
       "2           Amasya        2\n",
       "3           Ankara        3\n",
       "4          Antalya        3\n",
       "5            Aydın        3\n",
       "6        Balıkesir        4\n",
       "7             Bolu        4\n",
       "8            Bursa        4\n",
       "9          Denizli        2\n",
       "10      Diyarbakır        3\n",
       "11          Edirne        5\n",
       "12          Elazığ        5\n",
       "13       Eskişehir        3\n",
       "14       Gaziantep        4\n",
       "15         Isparta        4\n",
       "16         Karabük        3\n",
       "17       Kastamonu        3\n",
       "18         Kayseri        4\n",
       "19         Kocaeli        3\n",
       "20           Konya        2\n",
       "21         Kütahya        2\n",
       "22      Kırklareli        1\n",
       "23           Muğla        4\n",
       "24        Osmaniye        3\n",
       "25         Sakarya        3\n",
       "26          Samsun        3\n",
       "27        Tekirdağ        3\n",
       "28           Tokat        2\n",
       "29         Trabzon        5\n",
       "30            Uşak        1\n",
       "31        İstanbul        5\n",
       "32           İzmir        5\n",
       "33       Şanlıurfa        3"
      ]
     },
     "execution_count": 21,
     "metadata": {},
     "output_type": "execute_result"
    }
   ],
   "source": [
    "mean_revenue_per_city"
   ]
  },
  {
   "cell_type": "code",
   "execution_count": 22,
   "metadata": {
    "execution": {
     "iopub.execute_input": "2020-10-22T13:13:43.301642Z",
     "iopub.status.busy": "2020-10-22T13:13:43.300617Z",
     "iopub.status.idle": "2020-10-22T13:13:43.304028Z",
     "shell.execute_reply": "2020-10-22T13:13:43.304695Z"
    },
    "papermill": {
     "duration": 0.065026,
     "end_time": "2020-10-22T13:13:43.304853",
     "exception": false,
     "start_time": "2020-10-22T13:13:43.239827",
     "status": "completed"
    },
    "tags": []
   },
   "outputs": [],
   "source": [
    "mean_dict = dict(zip(mean_revenue_per_city.City, mean_revenue_per_city.revenue))"
   ]
  },
  {
   "cell_type": "code",
   "execution_count": 23,
   "metadata": {
    "execution": {
     "iopub.execute_input": "2020-10-22T13:13:43.424332Z",
     "iopub.status.busy": "2020-10-22T13:13:43.423359Z",
     "iopub.status.idle": "2020-10-22T13:13:43.428466Z",
     "shell.execute_reply": "2020-10-22T13:13:43.427889Z"
    },
    "papermill": {
     "duration": 0.066856,
     "end_time": "2020-10-22T13:13:43.428599",
     "exception": false,
     "start_time": "2020-10-22T13:13:43.361743",
     "status": "completed"
    },
    "tags": []
   },
   "outputs": [
    {
     "data": {
      "text/plain": [
       "{'Adana': 4,\n",
       " 'Afyonkarahisar': 4,\n",
       " 'Amasya': 2,\n",
       " 'Ankara': 3,\n",
       " 'Antalya': 3,\n",
       " 'Aydın': 3,\n",
       " 'Balıkesir': 4,\n",
       " 'Bolu': 4,\n",
       " 'Bursa': 4,\n",
       " 'Denizli': 2,\n",
       " 'Diyarbakır': 3,\n",
       " 'Edirne': 5,\n",
       " 'Elazığ': 5,\n",
       " 'Eskişehir': 3,\n",
       " 'Gaziantep': 4,\n",
       " 'Isparta': 4,\n",
       " 'Karabük': 3,\n",
       " 'Kastamonu': 3,\n",
       " 'Kayseri': 4,\n",
       " 'Kocaeli': 3,\n",
       " 'Konya': 2,\n",
       " 'Kütahya': 2,\n",
       " 'Kırklareli': 1,\n",
       " 'Muğla': 4,\n",
       " 'Osmaniye': 3,\n",
       " 'Sakarya': 3,\n",
       " 'Samsun': 3,\n",
       " 'Tekirdağ': 3,\n",
       " 'Tokat': 2,\n",
       " 'Trabzon': 5,\n",
       " 'Uşak': 1,\n",
       " 'İstanbul': 5,\n",
       " 'İzmir': 5,\n",
       " 'Şanlıurfa': 3}"
      ]
     },
     "execution_count": 23,
     "metadata": {},
     "output_type": "execute_result"
    }
   ],
   "source": [
    "mean_dict"
   ]
  },
  {
   "cell_type": "code",
   "execution_count": 24,
   "metadata": {
    "execution": {
     "iopub.execute_input": "2020-10-22T13:13:43.557455Z",
     "iopub.status.busy": "2020-10-22T13:13:43.556463Z",
     "iopub.status.idle": "2020-10-22T13:13:43.559034Z",
     "shell.execute_reply": "2020-10-22T13:13:43.559638Z"
    },
    "papermill": {
     "duration": 0.073945,
     "end_time": "2020-10-22T13:13:43.559820",
     "exception": false,
     "start_time": "2020-10-22T13:13:43.485875",
     "status": "completed"
    },
    "tags": []
   },
   "outputs": [],
   "source": [
    "trainData.replace({\"City\":mean_dict}, inplace=True)"
   ]
  },
  {
   "cell_type": "code",
   "execution_count": 25,
   "metadata": {
    "execution": {
     "iopub.execute_input": "2020-10-22T13:13:43.680400Z",
     "iopub.status.busy": "2020-10-22T13:13:43.679283Z",
     "iopub.status.idle": "2020-10-22T13:13:43.683330Z",
     "shell.execute_reply": "2020-10-22T13:13:43.683896Z"
    },
    "papermill": {
     "duration": 0.06735,
     "end_time": "2020-10-22T13:13:43.684059",
     "exception": false,
     "start_time": "2020-10-22T13:13:43.616709",
     "status": "completed"
    },
    "tags": []
   },
   "outputs": [
    {
     "data": {
      "text/plain": [
       "array([5, 3, 2, 4, 1])"
      ]
     },
     "execution_count": 25,
     "metadata": {},
     "output_type": "execute_result"
    }
   ],
   "source": [
    "trainData.City.unique()"
   ]
  },
  {
   "cell_type": "code",
   "execution_count": 26,
   "metadata": {
    "execution": {
     "iopub.execute_input": "2020-10-22T13:13:43.806563Z",
     "iopub.status.busy": "2020-10-22T13:13:43.805537Z",
     "iopub.status.idle": "2020-10-22T13:13:43.809014Z",
     "shell.execute_reply": "2020-10-22T13:13:43.809622Z"
    },
    "papermill": {
     "duration": 0.067793,
     "end_time": "2020-10-22T13:13:43.809778",
     "exception": false,
     "start_time": "2020-10-22T13:13:43.741985",
     "status": "completed"
    },
    "tags": []
   },
   "outputs": [
    {
     "data": {
      "text/plain": [
       "3.978102189781022"
      ]
     },
     "execution_count": 26,
     "metadata": {},
     "output_type": "execute_result"
    }
   ],
   "source": [
    "trainData.City.mean()"
   ]
  },
  {
   "cell_type": "code",
   "execution_count": 27,
   "metadata": {
    "execution": {
     "iopub.execute_input": "2020-10-22T13:13:43.935881Z",
     "iopub.status.busy": "2020-10-22T13:13:43.934857Z",
     "iopub.status.idle": "2020-10-22T13:13:43.943953Z",
     "shell.execute_reply": "2020-10-22T13:13:43.943198Z"
    },
    "papermill": {
     "duration": 0.076235,
     "end_time": "2020-10-22T13:13:43.944076",
     "exception": false,
     "start_time": "2020-10-22T13:13:43.867841",
     "status": "completed"
    },
    "tags": []
   },
   "outputs": [
    {
     "data": {
      "text/plain": [
       "array(['Niğde', 'Konya', 'Ankara', 'Kocaeli', 'Afyonkarahisar',\n",
       "       'Eskişehir', 'Rize', 'İstanbul', 'Trabzon', 'Antalya', 'Muğla',\n",
       "       'Düzce', 'Adana', 'Bursa', 'Aydın', 'Hatay', 'Denizli', 'İzmir',\n",
       "       'Gaziantep', 'Samsun', 'Erzurum', 'Edirne', 'Balıkesir', 'Mersin',\n",
       "       'Zonguldak', 'Malatya', 'Çanakkale', 'Kars', 'Bolu', 'Batman',\n",
       "       'Bilecik', 'Giresun', 'Tekirdağ', 'Sivas', 'Kırıkkale', 'Mardin',\n",
       "       'Erzincan', 'Manisa', 'Diyarbakır', 'Kahramanmaraş', 'Yalova',\n",
       "       'Tanımsız', 'Sakarya', 'Kırşehir', 'Aksaray', 'Kayseri',\n",
       "       'Nevşehir', 'Çorum', 'Ordu', 'Kırklareli', 'Şanlıurfa', 'Artvin',\n",
       "       'Uşak', 'Kütahya', 'Siirt', 'Çankırı', 'Isparta'], dtype=object)"
      ]
     },
     "execution_count": 27,
     "metadata": {},
     "output_type": "execute_result"
    }
   ],
   "source": [
    "df.City.unique()"
   ]
  },
  {
   "cell_type": "code",
   "execution_count": 28,
   "metadata": {
    "execution": {
     "iopub.execute_input": "2020-10-22T13:13:44.111039Z",
     "iopub.status.busy": "2020-10-22T13:13:44.072777Z",
     "iopub.status.idle": "2020-10-22T13:13:44.268118Z",
     "shell.execute_reply": "2020-10-22T13:13:44.267410Z"
    },
    "papermill": {
     "duration": 0.265121,
     "end_time": "2020-10-22T13:13:44.268274",
     "exception": false,
     "start_time": "2020-10-22T13:13:44.003153",
     "status": "completed"
    },
    "tags": []
   },
   "outputs": [],
   "source": [
    "df.replace({\"City\":mean_dict}, inplace=True)"
   ]
  },
  {
   "cell_type": "code",
   "execution_count": 29,
   "metadata": {
    "execution": {
     "iopub.execute_input": "2020-10-22T13:13:44.394724Z",
     "iopub.status.busy": "2020-10-22T13:13:44.393954Z",
     "iopub.status.idle": "2020-10-22T13:13:44.397147Z",
     "shell.execute_reply": "2020-10-22T13:13:44.396447Z"
    },
    "papermill": {
     "duration": 0.06754,
     "end_time": "2020-10-22T13:13:44.397314",
     "exception": false,
     "start_time": "2020-10-22T13:13:44.329774",
     "status": "completed"
    },
    "tags": []
   },
   "outputs": [],
   "source": [
    "#adding 4 as it was the mean in traindata column"
   ]
  },
  {
   "cell_type": "code",
   "execution_count": 30,
   "metadata": {
    "execution": {
     "iopub.execute_input": "2020-10-22T13:13:44.525263Z",
     "iopub.status.busy": "2020-10-22T13:13:44.524217Z",
     "iopub.status.idle": "2020-10-22T13:13:44.613873Z",
     "shell.execute_reply": "2020-10-22T13:13:44.613173Z"
    },
    "papermill": {
     "duration": 0.155967,
     "end_time": "2020-10-22T13:13:44.614004",
     "exception": false,
     "start_time": "2020-10-22T13:13:44.458037",
     "status": "completed"
    },
    "tags": []
   },
   "outputs": [],
   "source": [
    "df['City'] = df['City'].apply(lambda x: 4 if isinstance(x,str) else x)"
   ]
  },
  {
   "cell_type": "code",
   "execution_count": null,
   "metadata": {
    "papermill": {
     "duration": 0.061218,
     "end_time": "2020-10-22T13:13:44.734999",
     "exception": false,
     "start_time": "2020-10-22T13:13:44.673781",
     "status": "completed"
    },
    "tags": []
   },
   "outputs": [],
   "source": []
  },
  {
   "cell_type": "markdown",
   "metadata": {
    "papermill": {
     "duration": 0.062266,
     "end_time": "2020-10-22T13:13:44.857674",
     "exception": false,
     "start_time": "2020-10-22T13:13:44.795408",
     "status": "completed"
    },
    "tags": []
   },
   "source": [
    "#now looking the Type Column "
   ]
  },
  {
   "cell_type": "code",
   "execution_count": 31,
   "metadata": {
    "execution": {
     "iopub.execute_input": "2020-10-22T13:13:44.983530Z",
     "iopub.status.busy": "2020-10-22T13:13:44.982429Z",
     "iopub.status.idle": "2020-10-22T13:13:44.986941Z",
     "shell.execute_reply": "2020-10-22T13:13:44.986181Z"
    },
    "papermill": {
     "duration": 0.070169,
     "end_time": "2020-10-22T13:13:44.987076",
     "exception": false,
     "start_time": "2020-10-22T13:13:44.916907",
     "status": "completed"
    },
    "tags": []
   },
   "outputs": [
    {
     "data": {
      "text/plain": [
       "array(['IL', 'FC', 'DT'], dtype=object)"
      ]
     },
     "execution_count": 31,
     "metadata": {},
     "output_type": "execute_result"
    }
   ],
   "source": [
    "trainData.Type.unique()"
   ]
  },
  {
   "cell_type": "code",
   "execution_count": 32,
   "metadata": {
    "execution": {
     "iopub.execute_input": "2020-10-22T13:13:45.119020Z",
     "iopub.status.busy": "2020-10-22T13:13:45.118065Z",
     "iopub.status.idle": "2020-10-22T13:13:45.183076Z",
     "shell.execute_reply": "2020-10-22T13:13:45.182335Z"
    },
    "papermill": {
     "duration": 0.13063,
     "end_time": "2020-10-22T13:13:45.183217",
     "exception": false,
     "start_time": "2020-10-22T13:13:45.052587",
     "status": "completed"
    },
    "tags": []
   },
   "outputs": [],
   "source": [
    "from sklearn.preprocessing import LabelEncoder"
   ]
  },
  {
   "cell_type": "code",
   "execution_count": 33,
   "metadata": {
    "execution": {
     "iopub.execute_input": "2020-10-22T13:13:45.312446Z",
     "iopub.status.busy": "2020-10-22T13:13:45.311214Z",
     "iopub.status.idle": "2020-10-22T13:13:45.314958Z",
     "shell.execute_reply": "2020-10-22T13:13:45.314192Z"
    },
    "papermill": {
     "duration": 0.070208,
     "end_time": "2020-10-22T13:13:45.315090",
     "exception": false,
     "start_time": "2020-10-22T13:13:45.244882",
     "status": "completed"
    },
    "tags": []
   },
   "outputs": [],
   "source": [
    "lr = LabelEncoder()\n",
    "lr2=LabelEncoder()"
   ]
  },
  {
   "cell_type": "code",
   "execution_count": 34,
   "metadata": {
    "execution": {
     "iopub.execute_input": "2020-10-22T13:13:45.482284Z",
     "iopub.status.busy": "2020-10-22T13:13:45.481270Z",
     "iopub.status.idle": "2020-10-22T13:13:45.485628Z",
     "shell.execute_reply": "2020-10-22T13:13:45.484887Z"
    },
    "papermill": {
     "duration": 0.109867,
     "end_time": "2020-10-22T13:13:45.485754",
     "exception": false,
     "start_time": "2020-10-22T13:13:45.375887",
     "status": "completed"
    },
    "tags": []
   },
   "outputs": [],
   "source": [
    "trainData[\"Type\"]=lr.fit_transform(trainData[\"Type\"])\n",
    "df[\"Type\"]=lr2.fit_transform(df[\"Type\"])"
   ]
  },
  {
   "cell_type": "code",
   "execution_count": 35,
   "metadata": {
    "execution": {
     "iopub.execute_input": "2020-10-22T13:13:45.614574Z",
     "iopub.status.busy": "2020-10-22T13:13:45.613601Z",
     "iopub.status.idle": "2020-10-22T13:13:45.616143Z",
     "shell.execute_reply": "2020-10-22T13:13:45.616734Z"
    },
    "papermill": {
     "duration": 0.070213,
     "end_time": "2020-10-22T13:13:45.616900",
     "exception": false,
     "start_time": "2020-10-22T13:13:45.546687",
     "status": "completed"
    },
    "tags": []
   },
   "outputs": [],
   "source": [
    "X = trainData.drop(['revenue', 'Id'],axis=1)"
   ]
  },
  {
   "cell_type": "code",
   "execution_count": 36,
   "metadata": {
    "execution": {
     "iopub.execute_input": "2020-10-22T13:13:45.758269Z",
     "iopub.status.busy": "2020-10-22T13:13:45.753384Z",
     "iopub.status.idle": "2020-10-22T13:13:45.776679Z",
     "shell.execute_reply": "2020-10-22T13:13:45.776024Z"
    },
    "papermill": {
     "duration": 0.099611,
     "end_time": "2020-10-22T13:13:45.776810",
     "exception": false,
     "start_time": "2020-10-22T13:13:45.677199",
     "status": "completed"
    },
    "tags": []
   },
   "outputs": [
    {
     "data": {
      "text/html": [
       "<div>\n",
       "<style scoped>\n",
       "    .dataframe tbody tr th:only-of-type {\n",
       "        vertical-align: middle;\n",
       "    }\n",
       "\n",
       "    .dataframe tbody tr th {\n",
       "        vertical-align: top;\n",
       "    }\n",
       "\n",
       "    .dataframe thead th {\n",
       "        text-align: right;\n",
       "    }\n",
       "</style>\n",
       "<table border=\"1\" class=\"dataframe\">\n",
       "  <thead>\n",
       "    <tr style=\"text-align: right;\">\n",
       "      <th></th>\n",
       "      <th>City</th>\n",
       "      <th>Type</th>\n",
       "      <th>P1</th>\n",
       "      <th>P2</th>\n",
       "      <th>P3</th>\n",
       "      <th>P4</th>\n",
       "      <th>P5</th>\n",
       "      <th>P6</th>\n",
       "      <th>P7</th>\n",
       "      <th>P8</th>\n",
       "      <th>...</th>\n",
       "      <th>P31</th>\n",
       "      <th>P32</th>\n",
       "      <th>P33</th>\n",
       "      <th>P34</th>\n",
       "      <th>P35</th>\n",
       "      <th>P36</th>\n",
       "      <th>P37</th>\n",
       "      <th>OpenDays</th>\n",
       "      <th>Big Cities</th>\n",
       "      <th>Other</th>\n",
       "    </tr>\n",
       "  </thead>\n",
       "  <tbody>\n",
       "    <tr>\n",
       "      <th>0</th>\n",
       "      <td>5</td>\n",
       "      <td>2</td>\n",
       "      <td>4</td>\n",
       "      <td>5.0</td>\n",
       "      <td>4.0</td>\n",
       "      <td>4.0</td>\n",
       "      <td>2</td>\n",
       "      <td>2</td>\n",
       "      <td>5</td>\n",
       "      <td>4</td>\n",
       "      <td>...</td>\n",
       "      <td>3</td>\n",
       "      <td>4</td>\n",
       "      <td>5</td>\n",
       "      <td>5</td>\n",
       "      <td>4</td>\n",
       "      <td>3</td>\n",
       "      <td>4</td>\n",
       "      <td>5647</td>\n",
       "      <td>1</td>\n",
       "      <td>0</td>\n",
       "    </tr>\n",
       "    <tr>\n",
       "      <th>1</th>\n",
       "      <td>3</td>\n",
       "      <td>1</td>\n",
       "      <td>4</td>\n",
       "      <td>5.0</td>\n",
       "      <td>4.0</td>\n",
       "      <td>4.0</td>\n",
       "      <td>1</td>\n",
       "      <td>2</td>\n",
       "      <td>5</td>\n",
       "      <td>5</td>\n",
       "      <td>...</td>\n",
       "      <td>0</td>\n",
       "      <td>0</td>\n",
       "      <td>0</td>\n",
       "      <td>0</td>\n",
       "      <td>0</td>\n",
       "      <td>0</td>\n",
       "      <td>0</td>\n",
       "      <td>2513</td>\n",
       "      <td>1</td>\n",
       "      <td>0</td>\n",
       "    </tr>\n",
       "    <tr>\n",
       "      <th>2</th>\n",
       "      <td>3</td>\n",
       "      <td>2</td>\n",
       "      <td>2</td>\n",
       "      <td>4.0</td>\n",
       "      <td>2.0</td>\n",
       "      <td>5.0</td>\n",
       "      <td>2</td>\n",
       "      <td>3</td>\n",
       "      <td>5</td>\n",
       "      <td>5</td>\n",
       "      <td>...</td>\n",
       "      <td>0</td>\n",
       "      <td>0</td>\n",
       "      <td>0</td>\n",
       "      <td>0</td>\n",
       "      <td>0</td>\n",
       "      <td>0</td>\n",
       "      <td>0</td>\n",
       "      <td>663</td>\n",
       "      <td>0</td>\n",
       "      <td>1</td>\n",
       "    </tr>\n",
       "    <tr>\n",
       "      <th>3</th>\n",
       "      <td>2</td>\n",
       "      <td>2</td>\n",
       "      <td>6</td>\n",
       "      <td>4.5</td>\n",
       "      <td>6.0</td>\n",
       "      <td>6.0</td>\n",
       "      <td>4</td>\n",
       "      <td>4</td>\n",
       "      <td>10</td>\n",
       "      <td>8</td>\n",
       "      <td>...</td>\n",
       "      <td>12</td>\n",
       "      <td>10</td>\n",
       "      <td>6</td>\n",
       "      <td>18</td>\n",
       "      <td>12</td>\n",
       "      <td>12</td>\n",
       "      <td>6</td>\n",
       "      <td>1064</td>\n",
       "      <td>0</td>\n",
       "      <td>1</td>\n",
       "    </tr>\n",
       "    <tr>\n",
       "      <th>4</th>\n",
       "      <td>4</td>\n",
       "      <td>2</td>\n",
       "      <td>3</td>\n",
       "      <td>4.0</td>\n",
       "      <td>3.0</td>\n",
       "      <td>4.0</td>\n",
       "      <td>2</td>\n",
       "      <td>2</td>\n",
       "      <td>5</td>\n",
       "      <td>5</td>\n",
       "      <td>...</td>\n",
       "      <td>1</td>\n",
       "      <td>3</td>\n",
       "      <td>2</td>\n",
       "      <td>3</td>\n",
       "      <td>4</td>\n",
       "      <td>3</td>\n",
       "      <td>3</td>\n",
       "      <td>2063</td>\n",
       "      <td>0</td>\n",
       "      <td>1</td>\n",
       "    </tr>\n",
       "    <tr>\n",
       "      <th>...</th>\n",
       "      <td>...</td>\n",
       "      <td>...</td>\n",
       "      <td>...</td>\n",
       "      <td>...</td>\n",
       "      <td>...</td>\n",
       "      <td>...</td>\n",
       "      <td>...</td>\n",
       "      <td>...</td>\n",
       "      <td>...</td>\n",
       "      <td>...</td>\n",
       "      <td>...</td>\n",
       "      <td>...</td>\n",
       "      <td>...</td>\n",
       "      <td>...</td>\n",
       "      <td>...</td>\n",
       "      <td>...</td>\n",
       "      <td>...</td>\n",
       "      <td>...</td>\n",
       "      <td>...</td>\n",
       "      <td>...</td>\n",
       "      <td>...</td>\n",
       "    </tr>\n",
       "    <tr>\n",
       "      <th>132</th>\n",
       "      <td>5</td>\n",
       "      <td>1</td>\n",
       "      <td>2</td>\n",
       "      <td>3.0</td>\n",
       "      <td>3.0</td>\n",
       "      <td>5.0</td>\n",
       "      <td>4</td>\n",
       "      <td>2</td>\n",
       "      <td>4</td>\n",
       "      <td>4</td>\n",
       "      <td>...</td>\n",
       "      <td>0</td>\n",
       "      <td>0</td>\n",
       "      <td>0</td>\n",
       "      <td>0</td>\n",
       "      <td>0</td>\n",
       "      <td>0</td>\n",
       "      <td>0</td>\n",
       "      <td>2381</td>\n",
       "      <td>0</td>\n",
       "      <td>1</td>\n",
       "    </tr>\n",
       "    <tr>\n",
       "      <th>133</th>\n",
       "      <td>5</td>\n",
       "      <td>1</td>\n",
       "      <td>4</td>\n",
       "      <td>5.0</td>\n",
       "      <td>4.0</td>\n",
       "      <td>4.0</td>\n",
       "      <td>2</td>\n",
       "      <td>3</td>\n",
       "      <td>5</td>\n",
       "      <td>4</td>\n",
       "      <td>...</td>\n",
       "      <td>0</td>\n",
       "      <td>0</td>\n",
       "      <td>0</td>\n",
       "      <td>0</td>\n",
       "      <td>0</td>\n",
       "      <td>0</td>\n",
       "      <td>0</td>\n",
       "      <td>3003</td>\n",
       "      <td>1</td>\n",
       "      <td>0</td>\n",
       "    </tr>\n",
       "    <tr>\n",
       "      <th>134</th>\n",
       "      <td>4</td>\n",
       "      <td>1</td>\n",
       "      <td>3</td>\n",
       "      <td>4.0</td>\n",
       "      <td>4.0</td>\n",
       "      <td>4.0</td>\n",
       "      <td>2</td>\n",
       "      <td>3</td>\n",
       "      <td>5</td>\n",
       "      <td>5</td>\n",
       "      <td>...</td>\n",
       "      <td>0</td>\n",
       "      <td>0</td>\n",
       "      <td>0</td>\n",
       "      <td>0</td>\n",
       "      <td>0</td>\n",
       "      <td>0</td>\n",
       "      <td>0</td>\n",
       "      <td>3099</td>\n",
       "      <td>0</td>\n",
       "      <td>1</td>\n",
       "    </tr>\n",
       "    <tr>\n",
       "      <th>135</th>\n",
       "      <td>5</td>\n",
       "      <td>1</td>\n",
       "      <td>4</td>\n",
       "      <td>5.0</td>\n",
       "      <td>4.0</td>\n",
       "      <td>5.0</td>\n",
       "      <td>2</td>\n",
       "      <td>2</td>\n",
       "      <td>5</td>\n",
       "      <td>5</td>\n",
       "      <td>...</td>\n",
       "      <td>0</td>\n",
       "      <td>0</td>\n",
       "      <td>0</td>\n",
       "      <td>0</td>\n",
       "      <td>0</td>\n",
       "      <td>0</td>\n",
       "      <td>0</td>\n",
       "      <td>1525</td>\n",
       "      <td>1</td>\n",
       "      <td>0</td>\n",
       "    </tr>\n",
       "    <tr>\n",
       "      <th>136</th>\n",
       "      <td>5</td>\n",
       "      <td>1</td>\n",
       "      <td>4</td>\n",
       "      <td>5.0</td>\n",
       "      <td>3.0</td>\n",
       "      <td>5.0</td>\n",
       "      <td>2</td>\n",
       "      <td>2</td>\n",
       "      <td>5</td>\n",
       "      <td>4</td>\n",
       "      <td>...</td>\n",
       "      <td>0</td>\n",
       "      <td>0</td>\n",
       "      <td>0</td>\n",
       "      <td>0</td>\n",
       "      <td>0</td>\n",
       "      <td>0</td>\n",
       "      <td>0</td>\n",
       "      <td>1948</td>\n",
       "      <td>1</td>\n",
       "      <td>0</td>\n",
       "    </tr>\n",
       "  </tbody>\n",
       "</table>\n",
       "<p>137 rows × 42 columns</p>\n",
       "</div>"
      ],
      "text/plain": [
       "     City  Type  P1   P2   P3   P4  P5  P6  P7  P8  ...  P31  P32  P33  P34  \\\n",
       "0       5     2   4  5.0  4.0  4.0   2   2   5   4  ...    3    4    5    5   \n",
       "1       3     1   4  5.0  4.0  4.0   1   2   5   5  ...    0    0    0    0   \n",
       "2       3     2   2  4.0  2.0  5.0   2   3   5   5  ...    0    0    0    0   \n",
       "3       2     2   6  4.5  6.0  6.0   4   4  10   8  ...   12   10    6   18   \n",
       "4       4     2   3  4.0  3.0  4.0   2   2   5   5  ...    1    3    2    3   \n",
       "..    ...   ...  ..  ...  ...  ...  ..  ..  ..  ..  ...  ...  ...  ...  ...   \n",
       "132     5     1   2  3.0  3.0  5.0   4   2   4   4  ...    0    0    0    0   \n",
       "133     5     1   4  5.0  4.0  4.0   2   3   5   4  ...    0    0    0    0   \n",
       "134     4     1   3  4.0  4.0  4.0   2   3   5   5  ...    0    0    0    0   \n",
       "135     5     1   4  5.0  4.0  5.0   2   2   5   5  ...    0    0    0    0   \n",
       "136     5     1   4  5.0  3.0  5.0   2   2   5   4  ...    0    0    0    0   \n",
       "\n",
       "     P35  P36  P37  OpenDays  Big Cities  Other  \n",
       "0      4    3    4      5647           1      0  \n",
       "1      0    0    0      2513           1      0  \n",
       "2      0    0    0       663           0      1  \n",
       "3     12   12    6      1064           0      1  \n",
       "4      4    3    3      2063           0      1  \n",
       "..   ...  ...  ...       ...         ...    ...  \n",
       "132    0    0    0      2381           0      1  \n",
       "133    0    0    0      3003           1      0  \n",
       "134    0    0    0      3099           0      1  \n",
       "135    0    0    0      1525           1      0  \n",
       "136    0    0    0      1948           1      0  \n",
       "\n",
       "[137 rows x 42 columns]"
      ]
     },
     "execution_count": 36,
     "metadata": {},
     "output_type": "execute_result"
    }
   ],
   "source": [
    "X"
   ]
  },
  {
   "cell_type": "code",
   "execution_count": 37,
   "metadata": {
    "execution": {
     "iopub.execute_input": "2020-10-22T13:13:45.908417Z",
     "iopub.status.busy": "2020-10-22T13:13:45.906199Z",
     "iopub.status.idle": "2020-10-22T13:13:45.934802Z",
     "shell.execute_reply": "2020-10-22T13:13:45.934014Z"
    },
    "papermill": {
     "duration": 0.097007,
     "end_time": "2020-10-22T13:13:45.934932",
     "exception": false,
     "start_time": "2020-10-22T13:13:45.837925",
     "status": "completed"
    },
    "tags": []
   },
   "outputs": [],
   "source": [
    "df = df.drop(['Id'],axis=1)"
   ]
  },
  {
   "cell_type": "code",
   "execution_count": 38,
   "metadata": {
    "execution": {
     "iopub.execute_input": "2020-10-22T13:13:46.065925Z",
     "iopub.status.busy": "2020-10-22T13:13:46.065125Z",
     "iopub.status.idle": "2020-10-22T13:13:46.068844Z",
     "shell.execute_reply": "2020-10-22T13:13:46.068203Z"
    },
    "papermill": {
     "duration": 0.07138,
     "end_time": "2020-10-22T13:13:46.068984",
     "exception": false,
     "start_time": "2020-10-22T13:13:45.997604",
     "status": "completed"
    },
    "tags": []
   },
   "outputs": [],
   "source": [
    "Y=trainData[\"revenue\"]"
   ]
  },
  {
   "cell_type": "code",
   "execution_count": 39,
   "metadata": {
    "execution": {
     "iopub.execute_input": "2020-10-22T13:13:46.199786Z",
     "iopub.status.busy": "2020-10-22T13:13:46.198819Z",
     "iopub.status.idle": "2020-10-22T13:13:47.397387Z",
     "shell.execute_reply": "2020-10-22T13:13:47.398027Z"
    },
    "papermill": {
     "duration": 1.26743,
     "end_time": "2020-10-22T13:13:47.398217",
     "exception": false,
     "start_time": "2020-10-22T13:13:46.130787",
     "status": "completed"
    },
    "tags": []
   },
   "outputs": [],
   "source": [
    "from sklearn.metrics import mean_squared_error\n",
    "from sklearn.linear_model import LinearRegression\n",
    "from sklearn.model_selection import KFold\n",
    "\n",
    "from xgboost import XGBRegressor\n",
    "from lightgbm import LGBMRegressor"
   ]
  },
  {
   "cell_type": "code",
   "execution_count": 40,
   "metadata": {
    "execution": {
     "iopub.execute_input": "2020-10-22T13:13:47.527336Z",
     "iopub.status.busy": "2020-10-22T13:13:47.526377Z",
     "iopub.status.idle": "2020-10-22T13:13:47.529469Z",
     "shell.execute_reply": "2020-10-22T13:13:47.528860Z"
    },
    "papermill": {
     "duration": 0.069592,
     "end_time": "2020-10-22T13:13:47.529596",
     "exception": false,
     "start_time": "2020-10-22T13:13:47.460004",
     "status": "completed"
    },
    "tags": []
   },
   "outputs": [],
   "source": [
    "from math import sqrt"
   ]
  },
  {
   "cell_type": "code",
   "execution_count": 41,
   "metadata": {
    "execution": {
     "iopub.execute_input": "2020-10-22T13:13:47.673030Z",
     "iopub.status.busy": "2020-10-22T13:13:47.672163Z",
     "iopub.status.idle": "2020-10-22T13:13:48.055677Z",
     "shell.execute_reply": "2020-10-22T13:13:48.056611Z"
    },
    "papermill": {
     "duration": 0.465011,
     "end_time": "2020-10-22T13:13:48.056800",
     "exception": false,
     "start_time": "2020-10-22T13:13:47.591789",
     "status": "completed"
    },
    "tags": []
   },
   "outputs": [
    {
     "name": "stdout",
     "output_type": "stream",
     "text": [
      "1859315.9781837382\n",
      "4014755.584663311\n",
      "1731588.67787545\n",
      "1282812.0630591419\n",
      "1561092.573428195\n",
      "3149464.128960151\n",
      "1858838.08140899\n",
      "1874828.9917743788\n",
      "1523071.6857608918\n",
      "2856948.1477960455\n",
      "\n",
      "Mean score 2171271\n"
     ]
    }
   ],
   "source": [
    "cv = KFold(n_splits=10, shuffle=True, random_state=108)\n",
    "model = LGBMRegressor(n_estimators=200, learning_rate=0.01, subsample=0.7, colsample_bytree=0.8)\n",
    "\n",
    "scores = []\n",
    "for train_idx, test_idx in cv.split(X):\n",
    "    X_train = X.iloc[train_idx]\n",
    "    X_val = X.iloc[test_idx]\n",
    "    y_train = Y.iloc[train_idx]\n",
    "    y_val = Y.iloc[test_idx]\n",
    "    \n",
    "    model.fit(X_train,y_train)\n",
    "    preds = model.predict(X_val)\n",
    "    \n",
    "    rmse = sqrt(mean_squared_error(y_val, preds))\n",
    "    print(rmse)\n",
    "    scores.append(rmse)\n",
    "\n",
    "print(\"\\nMean score %d\"%np.mean(scores))"
   ]
  },
  {
   "cell_type": "code",
   "execution_count": 42,
   "metadata": {
    "execution": {
     "iopub.execute_input": "2020-10-22T13:13:48.271702Z",
     "iopub.status.busy": "2020-10-22T13:13:48.269701Z",
     "iopub.status.idle": "2020-10-22T13:13:48.588128Z",
     "shell.execute_reply": "2020-10-22T13:13:48.589048Z"
    },
    "papermill": {
     "duration": 0.397302,
     "end_time": "2020-10-22T13:13:48.589218",
     "exception": false,
     "start_time": "2020-10-22T13:13:48.191916",
     "status": "completed"
    },
    "tags": []
   },
   "outputs": [
    {
     "data": {
      "text/plain": [
       "array([4789212.96432691, 3498213.96544588, 3147490.93366051, ...,\n",
       "       4300649.93588441, 4249874.53676763, 4594246.77405254])"
      ]
     },
     "execution_count": 42,
     "metadata": {},
     "output_type": "execute_result"
    }
   ],
   "source": [
    "predictions = model.predict(df)\n",
    "predictions"
   ]
  },
  {
   "cell_type": "code",
   "execution_count": 43,
   "metadata": {
    "execution": {
     "iopub.execute_input": "2020-10-22T13:13:48.751551Z",
     "iopub.status.busy": "2020-10-22T13:13:48.750399Z",
     "iopub.status.idle": "2020-10-22T13:13:48.987282Z",
     "shell.execute_reply": "2020-10-22T13:13:48.986497Z"
    },
    "papermill": {
     "duration": 0.32273,
     "end_time": "2020-10-22T13:13:48.987574",
     "exception": false,
     "start_time": "2020-10-22T13:13:48.664844",
     "status": "completed"
    },
    "tags": []
   },
   "outputs": [
    {
     "data": {
      "text/plain": [
       "<matplotlib.axes._subplots.AxesSubplot at 0x7f3f13375910>"
      ]
     },
     "execution_count": 43,
     "metadata": {},
     "output_type": "execute_result"
    },
    {
     "data": {
      "image/png": "[encoded data removed]",
      "text/plain": [
       "<Figure size 432x288 with 1 Axes>"
      ]
     },
     "metadata": {
      "needs_background": "light"
     },
     "output_type": "display_data"
    }
   ],
   "source": [
    "sns.distplot(predictions, bins=20)"
   ]
  },
  {
   "cell_type": "code",
   "execution_count": null,
   "metadata": {
    "papermill": {
     "duration": 0.064771,
     "end_time": "2020-10-22T13:13:49.119311",
     "exception": false,
     "start_time": "2020-10-22T13:13:49.054540",
     "status": "completed"
    },
    "tags": []
   },
   "outputs": [],
   "source": []
  },
  {
   "cell_type": "markdown",
   "metadata": {
    "papermill": {
     "duration": 0.066627,
     "end_time": "2020-10-22T13:13:49.252136",
     "exception": false,
     "start_time": "2020-10-22T13:13:49.185509",
     "status": "completed"
    },
    "tags": []
   },
   "source": [
    "#checking the weightage of all the column"
   ]
  },
  {
   "cell_type": "code",
   "execution_count": 44,
   "metadata": {
    "execution": {
     "iopub.execute_input": "2020-10-22T13:13:49.389309Z",
     "iopub.status.busy": "2020-10-22T13:13:49.388461Z",
     "iopub.status.idle": "2020-10-22T13:13:55.814317Z",
     "shell.execute_reply": "2020-10-22T13:13:55.813627Z"
    },
    "papermill": {
     "duration": 6.496749,
     "end_time": "2020-10-22T13:13:55.814448",
     "exception": false,
     "start_time": "2020-10-22T13:13:49.317699",
     "status": "completed"
    },
    "tags": []
   },
   "outputs": [
    {
     "name": "stderr",
     "output_type": "stream",
     "text": [
      "/opt/conda/lib/python3.7/site-packages/sklearn/utils/deprecation.py:143: FutureWarning: The sklearn.metrics.scorer module is  deprecated in version 0.22 and will be removed in version 0.24. The corresponding classes / functions should instead be imported from sklearn.metrics. Anything that cannot be imported from sklearn.metrics is now part of the private API.\n",
      "  warnings.warn(message, FutureWarning)\n",
      "/opt/conda/lib/python3.7/site-packages/sklearn/utils/deprecation.py:143: FutureWarning: The sklearn.feature_selection.base module is  deprecated in version 0.22 and will be removed in version 0.24. The corresponding classes / functions should instead be imported from sklearn.feature_selection. Anything that cannot be imported from sklearn.feature_selection is now part of the private API.\n",
      "  warnings.warn(message, FutureWarning)\n",
      "Using TensorFlow backend.\n"
     ]
    }
   ],
   "source": [
    "import eli5\n",
    "from eli5.sklearn import PermutationImportance"
   ]
  },
  {
   "cell_type": "code",
   "execution_count": 45,
   "metadata": {
    "execution": {
     "iopub.execute_input": "2020-10-22T13:13:55.965995Z",
     "iopub.status.busy": "2020-10-22T13:13:55.961315Z",
     "iopub.status.idle": "2020-10-22T13:13:56.032706Z",
     "shell.execute_reply": "2020-10-22T13:13:56.033473Z"
    },
    "papermill": {
     "duration": 0.15323,
     "end_time": "2020-10-22T13:13:56.033654",
     "exception": false,
     "start_time": "2020-10-22T13:13:55.880424",
     "status": "completed"
    },
    "tags": []
   },
   "outputs": [
    {
     "data": {
      "text/plain": [
       "XGBRegressor(base_score=0.5, booster='gbtree', colsample_bylevel=1,\n",
       "             colsample_bynode=1, colsample_bytree=1, gamma=0, gpu_id=-1,\n",
       "             importance_type='gain', interaction_constraints='',\n",
       "             learning_rate=0.300000012, max_delta_step=0, max_depth=6,\n",
       "             min_child_weight=1, missing=nan, monotone_constraints='()',\n",
       "             n_estimators=100, n_jobs=0, num_parallel_tree=1, random_state=0,\n",
       "             reg_alpha=0, reg_lambda=1, scale_pos_weight=1, subsample=1,\n",
       "             tree_method='exact', validate_parameters=1, verbosity=None)"
      ]
     },
     "execution_count": 45,
     "metadata": {},
     "output_type": "execute_result"
    }
   ],
   "source": [
    "X = trainData.drop(['revenue', 'Id'],axis=1)\n",
    "from sklearn.model_selection import train_test_split\n",
    "X_train,X_test,Y_train,Y_test=train_test_split(X,Y,test_size=0.2,random_state=1)\n",
    "\n",
    "from xgboost import XGBRegressor\n",
    "xgb=XGBRegressor()\n",
    "xgb.fit(X_train,Y_train)"
   ]
  },
  {
   "cell_type": "code",
   "execution_count": 46,
   "metadata": {
    "execution": {
     "iopub.execute_input": "2020-10-22T13:13:56.207959Z",
     "iopub.status.busy": "2020-10-22T13:13:56.207091Z",
     "iopub.status.idle": "2020-10-22T13:13:56.921803Z",
     "shell.execute_reply": "2020-10-22T13:13:56.922616Z"
    },
    "papermill": {
     "duration": 0.808816,
     "end_time": "2020-10-22T13:13:56.922794",
     "exception": false,
     "start_time": "2020-10-22T13:13:56.113978",
     "status": "completed"
    },
    "tags": []
   },
   "outputs": [
    {
     "data": {
      "text/html": [
       "\n",
       "    <style>\n",
       "    table.eli5-weights tr:hover {\n",
       "        filter: brightness(85%);\n",
       "    }\n",
       "</style>\n",
       "\n",
       "\n",
       "\n",
       "    \n",
       "\n",
       "    \n",
       "\n",
       "    \n",
       "\n",
       "    \n",
       "\n",
       "    \n",
       "\n",
       "    \n",
       "\n",
       "\n",
       "    \n",
       "\n",
       "    \n",
       "\n",
       "    \n",
       "\n",
       "    \n",
       "\n",
       "    \n",
       "\n",
       "    \n",
       "\n",
       "\n",
       "    \n",
       "\n",
       "    \n",
       "\n",
       "    \n",
       "\n",
       "    \n",
       "\n",
       "    \n",
       "        <table class=\"eli5-weights eli5-feature-importances\" style=\"border-collapse: collapse; border: none; margin-top: 0em; table-layout: auto;\">\n",
       "    <thead>\n",
       "    <tr style=\"border: none;\">\n",
       "        <th style=\"padding: 0 1em 0 0.5em; text-align: right; border: none;\">Weight</th>\n",
       "        <th style=\"padding: 0 0.5em 0 0.5em; text-align: left; border: none;\">Feature</th>\n",
       "    </tr>\n",
       "    </thead>\n",
       "    <tbody>\n",
       "    \n",
       "        <tr style=\"background-color: hsl(120, 100.00%, 80.00%); border: none;\">\n",
       "            <td style=\"padding: 0 1em 0 0.5em; text-align: right; border: none;\">\n",
       "                0.4004\n",
       "                \n",
       "                    &plusmn; 0.0711\n",
       "                \n",
       "            </td>\n",
       "            <td style=\"padding: 0 0.5em 0 0.5em; text-align: left; border: none;\">\n",
       "                City\n",
       "            </td>\n",
       "        </tr>\n",
       "    \n",
       "        <tr style=\"background-color: hsl(120, 100.00%, 83.14%); border: none;\">\n",
       "            <td style=\"padding: 0 1em 0 0.5em; text-align: right; border: none;\">\n",
       "                0.3138\n",
       "                \n",
       "                    &plusmn; 0.0414\n",
       "                \n",
       "            </td>\n",
       "            <td style=\"padding: 0 0.5em 0 0.5em; text-align: left; border: none;\">\n",
       "                P29\n",
       "            </td>\n",
       "        </tr>\n",
       "    \n",
       "        <tr style=\"background-color: hsl(120, 100.00%, 85.30%); border: none;\">\n",
       "            <td style=\"padding: 0 1em 0 0.5em; text-align: right; border: none;\">\n",
       "                0.2580\n",
       "                \n",
       "                    &plusmn; 0.1062\n",
       "                \n",
       "            </td>\n",
       "            <td style=\"padding: 0 0.5em 0 0.5em; text-align: left; border: none;\">\n",
       "                OpenDays\n",
       "            </td>\n",
       "        </tr>\n",
       "    \n",
       "        <tr style=\"background-color: hsl(120, 100.00%, 91.92%); border: none;\">\n",
       "            <td style=\"padding: 0 1em 0 0.5em; text-align: right; border: none;\">\n",
       "                0.1097\n",
       "                \n",
       "                    &plusmn; 0.0322\n",
       "                \n",
       "            </td>\n",
       "            <td style=\"padding: 0 0.5em 0 0.5em; text-align: left; border: none;\">\n",
       "                P17\n",
       "            </td>\n",
       "        </tr>\n",
       "    \n",
       "        <tr style=\"background-color: hsl(120, 100.00%, 94.20%); border: none;\">\n",
       "            <td style=\"padding: 0 1em 0 0.5em; text-align: right; border: none;\">\n",
       "                0.0683\n",
       "                \n",
       "                    &plusmn; 0.0142\n",
       "                \n",
       "            </td>\n",
       "            <td style=\"padding: 0 0.5em 0 0.5em; text-align: left; border: none;\">\n",
       "                P28\n",
       "            </td>\n",
       "        </tr>\n",
       "    \n",
       "        <tr style=\"background-color: hsl(120, 100.00%, 95.33%); border: none;\">\n",
       "            <td style=\"padding: 0 1em 0 0.5em; text-align: right; border: none;\">\n",
       "                0.0502\n",
       "                \n",
       "                    &plusmn; 0.0097\n",
       "                \n",
       "            </td>\n",
       "            <td style=\"padding: 0 0.5em 0 0.5em; text-align: left; border: none;\">\n",
       "                P1\n",
       "            </td>\n",
       "        </tr>\n",
       "    \n",
       "        <tr style=\"background-color: hsl(120, 100.00%, 96.05%); border: none;\">\n",
       "            <td style=\"padding: 0 1em 0 0.5em; text-align: right; border: none;\">\n",
       "                0.0395\n",
       "                \n",
       "                    &plusmn; 0.0223\n",
       "                \n",
       "            </td>\n",
       "            <td style=\"padding: 0 0.5em 0 0.5em; text-align: left; border: none;\">\n",
       "                P27\n",
       "            </td>\n",
       "        </tr>\n",
       "    \n",
       "        <tr style=\"background-color: hsl(120, 100.00%, 96.10%); border: none;\">\n",
       "            <td style=\"padding: 0 1em 0 0.5em; text-align: right; border: none;\">\n",
       "                0.0387\n",
       "                \n",
       "                    &plusmn; 0.0115\n",
       "                \n",
       "            </td>\n",
       "            <td style=\"padding: 0 0.5em 0 0.5em; text-align: left; border: none;\">\n",
       "                P20\n",
       "            </td>\n",
       "        </tr>\n",
       "    \n",
       "        <tr style=\"background-color: hsl(120, 100.00%, 96.70%); border: none;\">\n",
       "            <td style=\"padding: 0 1em 0 0.5em; text-align: right; border: none;\">\n",
       "                0.0305\n",
       "                \n",
       "                    &plusmn; 0.0187\n",
       "                \n",
       "            </td>\n",
       "            <td style=\"padding: 0 0.5em 0 0.5em; text-align: left; border: none;\">\n",
       "                P5\n",
       "            </td>\n",
       "        </tr>\n",
       "    \n",
       "        <tr style=\"background-color: hsl(120, 100.00%, 96.83%); border: none;\">\n",
       "            <td style=\"padding: 0 1em 0 0.5em; text-align: right; border: none;\">\n",
       "                0.0288\n",
       "                \n",
       "                    &plusmn; 0.0179\n",
       "                \n",
       "            </td>\n",
       "            <td style=\"padding: 0 0.5em 0 0.5em; text-align: left; border: none;\">\n",
       "                P6\n",
       "            </td>\n",
       "        </tr>\n",
       "    \n",
       "        <tr style=\"background-color: hsl(120, 100.00%, 96.93%); border: none;\">\n",
       "            <td style=\"padding: 0 1em 0 0.5em; text-align: right; border: none;\">\n",
       "                0.0275\n",
       "                \n",
       "                    &plusmn; 0.0066\n",
       "                \n",
       "            </td>\n",
       "            <td style=\"padding: 0 0.5em 0 0.5em; text-align: left; border: none;\">\n",
       "                P22\n",
       "            </td>\n",
       "        </tr>\n",
       "    \n",
       "        <tr style=\"background-color: hsl(120, 100.00%, 97.21%); border: none;\">\n",
       "            <td style=\"padding: 0 1em 0 0.5em; text-align: right; border: none;\">\n",
       "                0.0241\n",
       "                \n",
       "                    &plusmn; 0.0206\n",
       "                \n",
       "            </td>\n",
       "            <td style=\"padding: 0 0.5em 0 0.5em; text-align: left; border: none;\">\n",
       "                P23\n",
       "            </td>\n",
       "        </tr>\n",
       "    \n",
       "        <tr style=\"background-color: hsl(120, 100.00%, 98.20%); border: none;\">\n",
       "            <td style=\"padding: 0 1em 0 0.5em; text-align: right; border: none;\">\n",
       "                0.0128\n",
       "                \n",
       "                    &plusmn; 0.0022\n",
       "                \n",
       "            </td>\n",
       "            <td style=\"padding: 0 0.5em 0 0.5em; text-align: left; border: none;\">\n",
       "                P19\n",
       "            </td>\n",
       "        </tr>\n",
       "    \n",
       "        <tr style=\"background-color: hsl(120, 100.00%, 98.54%); border: none;\">\n",
       "            <td style=\"padding: 0 1em 0 0.5em; text-align: right; border: none;\">\n",
       "                0.0095\n",
       "                \n",
       "                    &plusmn; 0.0012\n",
       "                \n",
       "            </td>\n",
       "            <td style=\"padding: 0 0.5em 0 0.5em; text-align: left; border: none;\">\n",
       "                P2\n",
       "            </td>\n",
       "        </tr>\n",
       "    \n",
       "        <tr style=\"background-color: hsl(120, 100.00%, 98.66%); border: none;\">\n",
       "            <td style=\"padding: 0 1em 0 0.5em; text-align: right; border: none;\">\n",
       "                0.0084\n",
       "                \n",
       "                    &plusmn; 0.0036\n",
       "                \n",
       "            </td>\n",
       "            <td style=\"padding: 0 0.5em 0 0.5em; text-align: left; border: none;\">\n",
       "                P10\n",
       "            </td>\n",
       "        </tr>\n",
       "    \n",
       "        <tr style=\"background-color: hsl(120, 100.00%, 98.75%); border: none;\">\n",
       "            <td style=\"padding: 0 1em 0 0.5em; text-align: right; border: none;\">\n",
       "                0.0076\n",
       "                \n",
       "                    &plusmn; 0.0026\n",
       "                \n",
       "            </td>\n",
       "            <td style=\"padding: 0 0.5em 0 0.5em; text-align: left; border: none;\">\n",
       "                P14\n",
       "            </td>\n",
       "        </tr>\n",
       "    \n",
       "        <tr style=\"background-color: hsl(120, 100.00%, 98.87%); border: none;\">\n",
       "            <td style=\"padding: 0 1em 0 0.5em; text-align: right; border: none;\">\n",
       "                0.0066\n",
       "                \n",
       "                    &plusmn; 0.0032\n",
       "                \n",
       "            </td>\n",
       "            <td style=\"padding: 0 0.5em 0 0.5em; text-align: left; border: none;\">\n",
       "                P8\n",
       "            </td>\n",
       "        </tr>\n",
       "    \n",
       "        <tr style=\"background-color: hsl(120, 100.00%, 98.94%); border: none;\">\n",
       "            <td style=\"padding: 0 1em 0 0.5em; text-align: right; border: none;\">\n",
       "                0.0060\n",
       "                \n",
       "                    &plusmn; 0.0021\n",
       "                \n",
       "            </td>\n",
       "            <td style=\"padding: 0 0.5em 0 0.5em; text-align: left; border: none;\">\n",
       "                P4\n",
       "            </td>\n",
       "        </tr>\n",
       "    \n",
       "        <tr style=\"background-color: hsl(120, 100.00%, 98.95%); border: none;\">\n",
       "            <td style=\"padding: 0 1em 0 0.5em; text-align: right; border: none;\">\n",
       "                0.0060\n",
       "                \n",
       "                    &plusmn; 0.0015\n",
       "                \n",
       "            </td>\n",
       "            <td style=\"padding: 0 0.5em 0 0.5em; text-align: left; border: none;\">\n",
       "                P26\n",
       "            </td>\n",
       "        </tr>\n",
       "    \n",
       "        <tr style=\"background-color: hsl(120, 100.00%, 98.97%); border: none;\">\n",
       "            <td style=\"padding: 0 1em 0 0.5em; text-align: right; border: none;\">\n",
       "                0.0058\n",
       "                \n",
       "                    &plusmn; 0.0022\n",
       "                \n",
       "            </td>\n",
       "            <td style=\"padding: 0 0.5em 0 0.5em; text-align: left; border: none;\">\n",
       "                P3\n",
       "            </td>\n",
       "        </tr>\n",
       "    \n",
       "    \n",
       "        \n",
       "            <tr style=\"background-color: hsl(120, 100.00%, 98.97%); border: none;\">\n",
       "                <td colspan=\"2\" style=\"padding: 0 0.5em 0 0.5em; text-align: center; border: none; white-space: nowrap;\">\n",
       "                    <i>&hellip; 22 more &hellip;</i>\n",
       "                </td>\n",
       "            </tr>\n",
       "        \n",
       "    \n",
       "    </tbody>\n",
       "</table>\n",
       "    \n",
       "\n",
       "    \n",
       "\n",
       "\n",
       "    \n",
       "\n",
       "    \n",
       "\n",
       "    \n",
       "\n",
       "    \n",
       "\n",
       "    \n",
       "\n",
       "    \n",
       "\n",
       "\n",
       "\n"
      ],
      "text/plain": [
       "<IPython.core.display.HTML object>"
      ]
     },
     "execution_count": 46,
     "metadata": {},
     "output_type": "execute_result"
    }
   ],
   "source": [
    "perm = PermutationImportance(xgb, random_state=1).fit(X_train,Y_train)\n",
    "eli5.show_weights(perm, feature_names = X_train.columns.to_list())"
   ]
  },
  {
   "cell_type": "raw",
   "metadata": {
    "papermill": {
     "duration": 0.07697,
     "end_time": "2020-10-22T13:13:57.081663",
     "exception": false,
     "start_time": "2020-10-22T13:13:57.004693",
     "status": "completed"
    },
    "tags": []
   },
   "source": [
    "#adding new columns accordingly"
   ]
  },
  {
   "cell_type": "code",
   "execution_count": 47,
   "metadata": {
    "execution": {
     "iopub.execute_input": "2020-10-22T13:13:57.234837Z",
     "iopub.status.busy": "2020-10-22T13:13:57.233716Z",
     "iopub.status.idle": "2020-10-22T13:13:57.254826Z",
     "shell.execute_reply": "2020-10-22T13:13:57.254046Z"
    },
    "papermill": {
     "duration": 0.104465,
     "end_time": "2020-10-22T13:13:57.254951",
     "exception": false,
     "start_time": "2020-10-22T13:13:57.150486",
     "status": "completed"
    },
    "tags": []
   },
   "outputs": [],
   "source": [
    "trainData['P29_to_City_mean'] = trainData.groupby('City')['P29'].transform('mean')\n",
    "trainData['P17_to_City_mean'] = trainData.groupby('City')['P17'].transform('mean')\n",
    "trainData['P28_to_City_mean'] = trainData.groupby('City')['P28'].transform('mean')\n",
    "trainData['P1_to_City_mean'] = trainData.groupby('City')['P1'].transform('mean')\n",
    "trainData['P27_to_City_mean'] = trainData.groupby('City')['P27'].transform('mean')\n",
    "trainData['P20_to_City_mean'] = trainData.groupby('City')['P20'].transform('mean')"
   ]
  },
  {
   "cell_type": "code",
   "execution_count": 48,
   "metadata": {
    "execution": {
     "iopub.execute_input": "2020-10-22T13:13:57.401166Z",
     "iopub.status.busy": "2020-10-22T13:13:57.400385Z",
     "iopub.status.idle": "2020-10-22T13:13:57.485966Z",
     "shell.execute_reply": "2020-10-22T13:13:57.485177Z"
    },
    "papermill": {
     "duration": 0.163028,
     "end_time": "2020-10-22T13:13:57.486096",
     "exception": false,
     "start_time": "2020-10-22T13:13:57.323068",
     "status": "completed"
    },
    "tags": []
   },
   "outputs": [],
   "source": [
    "df['P29_to_City_mean'] = df.groupby('City')['P29'].transform('mean')\n",
    "df['P17_to_City_mean'] = df.groupby('City')['P17'].transform('mean')\n",
    "df['P28_to_City_mean'] = df.groupby('City')['P28'].transform('mean')\n",
    "df['P1_to_City_mean'] = df.groupby('City')['P1'].transform('mean')\n",
    "df['P27_to_City_mean'] = df.groupby('City')['P27'].transform('mean')\n",
    "df['P20_to_City_mean'] = df.groupby('City')['P20'].transform('mean')"
   ]
  },
  {
   "cell_type": "code",
   "execution_count": 49,
   "metadata": {
    "execution": {
     "iopub.execute_input": "2020-10-22T13:13:57.631541Z",
     "iopub.status.busy": "2020-10-22T13:13:57.630807Z",
     "iopub.status.idle": "2020-10-22T13:13:57.633717Z",
     "shell.execute_reply": "2020-10-22T13:13:57.633009Z"
    },
    "papermill": {
     "duration": 0.078909,
     "end_time": "2020-10-22T13:13:57.633854",
     "exception": false,
     "start_time": "2020-10-22T13:13:57.554945",
     "status": "completed"
    },
    "tags": []
   },
   "outputs": [],
   "source": [
    "X = trainData.drop(['revenue', 'Id'],axis=1)"
   ]
  },
  {
   "cell_type": "code",
   "execution_count": 50,
   "metadata": {
    "execution": {
     "iopub.execute_input": "2020-10-22T13:13:57.795157Z",
     "iopub.status.busy": "2020-10-22T13:13:57.794424Z",
     "iopub.status.idle": "2020-10-22T13:13:57.815454Z",
     "shell.execute_reply": "2020-10-22T13:13:57.814817Z"
    },
    "papermill": {
     "duration": 0.112976,
     "end_time": "2020-10-22T13:13:57.815580",
     "exception": false,
     "start_time": "2020-10-22T13:13:57.702604",
     "status": "completed"
    },
    "tags": []
   },
   "outputs": [
    {
     "data": {
      "text/html": [
       "<div>\n",
       "<style scoped>\n",
       "    .dataframe tbody tr th:only-of-type {\n",
       "        vertical-align: middle;\n",
       "    }\n",
       "\n",
       "    .dataframe tbody tr th {\n",
       "        vertical-align: top;\n",
       "    }\n",
       "\n",
       "    .dataframe thead th {\n",
       "        text-align: right;\n",
       "    }\n",
       "</style>\n",
       "<table border=\"1\" class=\"dataframe\">\n",
       "  <thead>\n",
       "    <tr style=\"text-align: right;\">\n",
       "      <th></th>\n",
       "      <th>City</th>\n",
       "      <th>Type</th>\n",
       "      <th>P1</th>\n",
       "      <th>P2</th>\n",
       "      <th>P3</th>\n",
       "      <th>P4</th>\n",
       "      <th>P5</th>\n",
       "      <th>P6</th>\n",
       "      <th>P7</th>\n",
       "      <th>P8</th>\n",
       "      <th>...</th>\n",
       "      <th>P37</th>\n",
       "      <th>OpenDays</th>\n",
       "      <th>Big Cities</th>\n",
       "      <th>Other</th>\n",
       "      <th>P29_to_City_mean</th>\n",
       "      <th>P17_to_City_mean</th>\n",
       "      <th>P28_to_City_mean</th>\n",
       "      <th>P1_to_City_mean</th>\n",
       "      <th>P27_to_City_mean</th>\n",
       "      <th>P20_to_City_mean</th>\n",
       "    </tr>\n",
       "  </thead>\n",
       "  <tbody>\n",
       "    <tr>\n",
       "      <th>0</th>\n",
       "      <td>5</td>\n",
       "      <td>2</td>\n",
       "      <td>4</td>\n",
       "      <td>5.0</td>\n",
       "      <td>4.0</td>\n",
       "      <td>4.0</td>\n",
       "      <td>2</td>\n",
       "      <td>2</td>\n",
       "      <td>5</td>\n",
       "      <td>4</td>\n",
       "      <td>...</td>\n",
       "      <td>4</td>\n",
       "      <td>5647</td>\n",
       "      <td>1</td>\n",
       "      <td>0</td>\n",
       "      <td>3.214286</td>\n",
       "      <td>1.619048</td>\n",
       "      <td>3.984127</td>\n",
       "      <td>5.031746</td>\n",
       "      <td>1.777778</td>\n",
       "      <td>5.317460</td>\n",
       "    </tr>\n",
       "    <tr>\n",
       "      <th>1</th>\n",
       "      <td>3</td>\n",
       "      <td>1</td>\n",
       "      <td>4</td>\n",
       "      <td>5.0</td>\n",
       "      <td>4.0</td>\n",
       "      <td>4.0</td>\n",
       "      <td>1</td>\n",
       "      <td>2</td>\n",
       "      <td>5</td>\n",
       "      <td>5</td>\n",
       "      <td>...</td>\n",
       "      <td>0</td>\n",
       "      <td>2513</td>\n",
       "      <td>1</td>\n",
       "      <td>0</td>\n",
       "      <td>2.843750</td>\n",
       "      <td>0.416667</td>\n",
       "      <td>2.656250</td>\n",
       "      <td>3.145833</td>\n",
       "      <td>0.458333</td>\n",
       "      <td>3.854167</td>\n",
       "    </tr>\n",
       "    <tr>\n",
       "      <th>2</th>\n",
       "      <td>3</td>\n",
       "      <td>2</td>\n",
       "      <td>2</td>\n",
       "      <td>4.0</td>\n",
       "      <td>2.0</td>\n",
       "      <td>5.0</td>\n",
       "      <td>2</td>\n",
       "      <td>3</td>\n",
       "      <td>5</td>\n",
       "      <td>5</td>\n",
       "      <td>...</td>\n",
       "      <td>0</td>\n",
       "      <td>663</td>\n",
       "      <td>0</td>\n",
       "      <td>1</td>\n",
       "      <td>2.843750</td>\n",
       "      <td>0.416667</td>\n",
       "      <td>2.656250</td>\n",
       "      <td>3.145833</td>\n",
       "      <td>0.458333</td>\n",
       "      <td>3.854167</td>\n",
       "    </tr>\n",
       "    <tr>\n",
       "      <th>3</th>\n",
       "      <td>2</td>\n",
       "      <td>2</td>\n",
       "      <td>6</td>\n",
       "      <td>4.5</td>\n",
       "      <td>6.0</td>\n",
       "      <td>6.0</td>\n",
       "      <td>4</td>\n",
       "      <td>4</td>\n",
       "      <td>10</td>\n",
       "      <td>8</td>\n",
       "      <td>...</td>\n",
       "      <td>6</td>\n",
       "      <td>1064</td>\n",
       "      <td>0</td>\n",
       "      <td>1</td>\n",
       "      <td>4.500000</td>\n",
       "      <td>1.000000</td>\n",
       "      <td>2.583333</td>\n",
       "      <td>3.500000</td>\n",
       "      <td>0.833333</td>\n",
       "      <td>5.666667</td>\n",
       "    </tr>\n",
       "    <tr>\n",
       "      <th>4</th>\n",
       "      <td>4</td>\n",
       "      <td>2</td>\n",
       "      <td>3</td>\n",
       "      <td>4.0</td>\n",
       "      <td>3.0</td>\n",
       "      <td>4.0</td>\n",
       "      <td>2</td>\n",
       "      <td>2</td>\n",
       "      <td>5</td>\n",
       "      <td>5</td>\n",
       "      <td>...</td>\n",
       "      <td>3</td>\n",
       "      <td>2063</td>\n",
       "      <td>0</td>\n",
       "      <td>1</td>\n",
       "      <td>3.194444</td>\n",
       "      <td>0.777778</td>\n",
       "      <td>2.527778</td>\n",
       "      <td>3.166667</td>\n",
       "      <td>1.000000</td>\n",
       "      <td>3.722222</td>\n",
       "    </tr>\n",
       "    <tr>\n",
       "      <th>...</th>\n",
       "      <td>...</td>\n",
       "      <td>...</td>\n",
       "      <td>...</td>\n",
       "      <td>...</td>\n",
       "      <td>...</td>\n",
       "      <td>...</td>\n",
       "      <td>...</td>\n",
       "      <td>...</td>\n",
       "      <td>...</td>\n",
       "      <td>...</td>\n",
       "      <td>...</td>\n",
       "      <td>...</td>\n",
       "      <td>...</td>\n",
       "      <td>...</td>\n",
       "      <td>...</td>\n",
       "      <td>...</td>\n",
       "      <td>...</td>\n",
       "      <td>...</td>\n",
       "      <td>...</td>\n",
       "      <td>...</td>\n",
       "      <td>...</td>\n",
       "    </tr>\n",
       "    <tr>\n",
       "      <th>132</th>\n",
       "      <td>5</td>\n",
       "      <td>1</td>\n",
       "      <td>2</td>\n",
       "      <td>3.0</td>\n",
       "      <td>3.0</td>\n",
       "      <td>5.0</td>\n",
       "      <td>4</td>\n",
       "      <td>2</td>\n",
       "      <td>4</td>\n",
       "      <td>4</td>\n",
       "      <td>...</td>\n",
       "      <td>0</td>\n",
       "      <td>2381</td>\n",
       "      <td>0</td>\n",
       "      <td>1</td>\n",
       "      <td>3.214286</td>\n",
       "      <td>1.619048</td>\n",
       "      <td>3.984127</td>\n",
       "      <td>5.031746</td>\n",
       "      <td>1.777778</td>\n",
       "      <td>5.317460</td>\n",
       "    </tr>\n",
       "    <tr>\n",
       "      <th>133</th>\n",
       "      <td>5</td>\n",
       "      <td>1</td>\n",
       "      <td>4</td>\n",
       "      <td>5.0</td>\n",
       "      <td>4.0</td>\n",
       "      <td>4.0</td>\n",
       "      <td>2</td>\n",
       "      <td>3</td>\n",
       "      <td>5</td>\n",
       "      <td>4</td>\n",
       "      <td>...</td>\n",
       "      <td>0</td>\n",
       "      <td>3003</td>\n",
       "      <td>1</td>\n",
       "      <td>0</td>\n",
       "      <td>3.214286</td>\n",
       "      <td>1.619048</td>\n",
       "      <td>3.984127</td>\n",
       "      <td>5.031746</td>\n",
       "      <td>1.777778</td>\n",
       "      <td>5.317460</td>\n",
       "    </tr>\n",
       "    <tr>\n",
       "      <th>134</th>\n",
       "      <td>4</td>\n",
       "      <td>1</td>\n",
       "      <td>3</td>\n",
       "      <td>4.0</td>\n",
       "      <td>4.0</td>\n",
       "      <td>4.0</td>\n",
       "      <td>2</td>\n",
       "      <td>3</td>\n",
       "      <td>5</td>\n",
       "      <td>5</td>\n",
       "      <td>...</td>\n",
       "      <td>0</td>\n",
       "      <td>3099</td>\n",
       "      <td>0</td>\n",
       "      <td>1</td>\n",
       "      <td>3.194444</td>\n",
       "      <td>0.777778</td>\n",
       "      <td>2.527778</td>\n",
       "      <td>3.166667</td>\n",
       "      <td>1.000000</td>\n",
       "      <td>3.722222</td>\n",
       "    </tr>\n",
       "    <tr>\n",
       "      <th>135</th>\n",
       "      <td>5</td>\n",
       "      <td>1</td>\n",
       "      <td>4</td>\n",
       "      <td>5.0</td>\n",
       "      <td>4.0</td>\n",
       "      <td>5.0</td>\n",
       "      <td>2</td>\n",
       "      <td>2</td>\n",
       "      <td>5</td>\n",
       "      <td>5</td>\n",
       "      <td>...</td>\n",
       "      <td>0</td>\n",
       "      <td>1525</td>\n",
       "      <td>1</td>\n",
       "      <td>0</td>\n",
       "      <td>3.214286</td>\n",
       "      <td>1.619048</td>\n",
       "      <td>3.984127</td>\n",
       "      <td>5.031746</td>\n",
       "      <td>1.777778</td>\n",
       "      <td>5.317460</td>\n",
       "    </tr>\n",
       "    <tr>\n",
       "      <th>136</th>\n",
       "      <td>5</td>\n",
       "      <td>1</td>\n",
       "      <td>4</td>\n",
       "      <td>5.0</td>\n",
       "      <td>3.0</td>\n",
       "      <td>5.0</td>\n",
       "      <td>2</td>\n",
       "      <td>2</td>\n",
       "      <td>5</td>\n",
       "      <td>4</td>\n",
       "      <td>...</td>\n",
       "      <td>0</td>\n",
       "      <td>1948</td>\n",
       "      <td>1</td>\n",
       "      <td>0</td>\n",
       "      <td>3.214286</td>\n",
       "      <td>1.619048</td>\n",
       "      <td>3.984127</td>\n",
       "      <td>5.031746</td>\n",
       "      <td>1.777778</td>\n",
       "      <td>5.317460</td>\n",
       "    </tr>\n",
       "  </tbody>\n",
       "</table>\n",
       "<p>137 rows × 48 columns</p>\n",
       "</div>"
      ],
      "text/plain": [
       "     City  Type  P1   P2   P3   P4  P5  P6  P7  P8  ...  P37  OpenDays  \\\n",
       "0       5     2   4  5.0  4.0  4.0   2   2   5   4  ...    4      5647   \n",
       "1       3     1   4  5.0  4.0  4.0   1   2   5   5  ...    0      2513   \n",
       "2       3     2   2  4.0  2.0  5.0   2   3   5   5  ...    0       663   \n",
       "3       2     2   6  4.5  6.0  6.0   4   4  10   8  ...    6      1064   \n",
       "4       4     2   3  4.0  3.0  4.0   2   2   5   5  ...    3      2063   \n",
       "..    ...   ...  ..  ...  ...  ...  ..  ..  ..  ..  ...  ...       ...   \n",
       "132     5     1   2  3.0  3.0  5.0   4   2   4   4  ...    0      2381   \n",
       "133     5     1   4  5.0  4.0  4.0   2   3   5   4  ...    0      3003   \n",
       "134     4     1   3  4.0  4.0  4.0   2   3   5   5  ...    0      3099   \n",
       "135     5     1   4  5.0  4.0  5.0   2   2   5   5  ...    0      1525   \n",
       "136     5     1   4  5.0  3.0  5.0   2   2   5   4  ...    0      1948   \n",
       "\n",
       "     Big Cities  Other  P29_to_City_mean  P17_to_City_mean  P28_to_City_mean  \\\n",
       "0             1      0          3.214286          1.619048          3.984127   \n",
       "1             1      0          2.843750          0.416667          2.656250   \n",
       "2             0      1          2.843750          0.416667          2.656250   \n",
       "3             0      1          4.500000          1.000000          2.583333   \n",
       "4             0      1          3.194444          0.777778          2.527778   \n",
       "..          ...    ...               ...               ...               ...   \n",
       "132           0      1          3.214286          1.619048          3.984127   \n",
       "133           1      0          3.214286          1.619048          3.984127   \n",
       "134           0      1          3.194444          0.777778          2.527778   \n",
       "135           1      0          3.214286          1.619048          3.984127   \n",
       "136           1      0          3.214286          1.619048          3.984127   \n",
       "\n",
       "     P1_to_City_mean  P27_to_City_mean  P20_to_City_mean  \n",
       "0           5.031746          1.777778          5.317460  \n",
       "1           3.145833          0.458333          3.854167  \n",
       "2           3.145833          0.458333          3.854167  \n",
       "3           3.500000          0.833333          5.666667  \n",
       "4           3.166667          1.000000          3.722222  \n",
       "..               ...               ...               ...  \n",
       "132         5.031746          1.777778          5.317460  \n",
       "133         5.031746          1.777778          5.317460  \n",
       "134         3.166667          1.000000          3.722222  \n",
       "135         5.031746          1.777778          5.317460  \n",
       "136         5.031746          1.777778          5.317460  \n",
       "\n",
       "[137 rows x 48 columns]"
      ]
     },
     "execution_count": 50,
     "metadata": {},
     "output_type": "execute_result"
    }
   ],
   "source": [
    "X"
   ]
  },
  {
   "cell_type": "markdown",
   "metadata": {
    "papermill": {
     "duration": 0.069653,
     "end_time": "2020-10-22T13:13:57.954736",
     "exception": false,
     "start_time": "2020-10-22T13:13:57.885083",
     "status": "completed"
    },
    "tags": []
   },
   "source": [
    "#Applying model once again so that we can get our new Model with more accuracy"
   ]
  },
  {
   "cell_type": "code",
   "execution_count": 51,
   "metadata": {
    "execution": {
     "iopub.execute_input": "2020-10-22T13:13:58.107390Z",
     "iopub.status.busy": "2020-10-22T13:13:58.106622Z",
     "iopub.status.idle": "2020-10-22T13:13:58.492759Z",
     "shell.execute_reply": "2020-10-22T13:13:58.493472Z"
    },
    "papermill": {
     "duration": 0.46714,
     "end_time": "2020-10-22T13:13:58.493659",
     "exception": false,
     "start_time": "2020-10-22T13:13:58.026519",
     "status": "completed"
    },
    "tags": []
   },
   "outputs": [
    {
     "name": "stdout",
     "output_type": "stream",
     "text": [
      "1844009.0876560577\n",
      "4004013.5012830435\n",
      "1704672.141747515\n",
      "1281403.4168669088\n",
      "1596609.5442899324\n",
      "3137342.379374081\n",
      "1882944.6006180337\n",
      "1843492.9393876626\n",
      "1502711.1409468239\n",
      "2879611.613441217\n",
      "\n",
      "Mean score 2167681\n"
     ]
    }
   ],
   "source": [
    "cv = KFold(n_splits=10, shuffle=True, random_state=108)\n",
    "model = LGBMRegressor(n_estimators=200, learning_rate=0.01, subsample=0.7, colsample_bytree=0.8)\n",
    "\n",
    "scores = []\n",
    "for train_idx, test_idx in cv.split(X):\n",
    "    X_train = X.iloc[train_idx]\n",
    "    X_val = X.iloc[test_idx]\n",
    "    y_train = Y.iloc[train_idx]\n",
    "    y_val = Y.iloc[test_idx]\n",
    "    \n",
    "    model.fit(X_train,y_train)\n",
    "    preds = model.predict(X_val)\n",
    "    \n",
    "    rmse = sqrt(mean_squared_error(y_val, preds))\n",
    "    print(rmse)\n",
    "    scores.append(rmse)\n",
    "\n",
    "print(\"\\nMean score %d\"%np.mean(scores))"
   ]
  },
  {
   "cell_type": "code",
   "execution_count": 52,
   "metadata": {
    "execution": {
     "iopub.execute_input": "2020-10-22T13:13:58.669891Z",
     "iopub.status.busy": "2020-10-22T13:13:58.668873Z",
     "iopub.status.idle": "2020-10-22T13:13:59.016618Z",
     "shell.execute_reply": "2020-10-22T13:13:59.017464Z"
    },
    "papermill": {
     "duration": 0.439485,
     "end_time": "2020-10-22T13:13:59.017680",
     "exception": false,
     "start_time": "2020-10-22T13:13:58.578195",
     "status": "completed"
    },
    "tags": []
   },
   "outputs": [],
   "source": [
    "predictions = model.predict(df)\n",
    "sample['Prediction'] = predictions"
   ]
  },
  {
   "cell_type": "code",
   "execution_count": 53,
   "metadata": {
    "execution": {
     "iopub.execute_input": "2020-10-22T13:13:59.198813Z",
     "iopub.status.busy": "2020-10-22T13:13:59.197902Z",
     "iopub.status.idle": "2020-10-22T13:13:59.212061Z",
     "shell.execute_reply": "2020-10-22T13:13:59.211311Z"
    },
    "papermill": {
     "duration": 0.106546,
     "end_time": "2020-10-22T13:13:59.212208",
     "exception": false,
     "start_time": "2020-10-22T13:13:59.105662",
     "status": "completed"
    },
    "tags": []
   },
   "outputs": [
    {
     "data": {
      "text/html": [
       "<div>\n",
       "<style scoped>\n",
       "    .dataframe tbody tr th:only-of-type {\n",
       "        vertical-align: middle;\n",
       "    }\n",
       "\n",
       "    .dataframe tbody tr th {\n",
       "        vertical-align: top;\n",
       "    }\n",
       "\n",
       "    .dataframe thead th {\n",
       "        text-align: right;\n",
       "    }\n",
       "</style>\n",
       "<table border=\"1\" class=\"dataframe\">\n",
       "  <thead>\n",
       "    <tr style=\"text-align: right;\">\n",
       "      <th></th>\n",
       "      <th>id</th>\n",
       "      <th>Prediction</th>\n",
       "    </tr>\n",
       "  </thead>\n",
       "  <tbody>\n",
       "    <tr>\n",
       "      <th>0</th>\n",
       "      <td>0</td>\n",
       "      <td>4.836411e+06</td>\n",
       "    </tr>\n",
       "    <tr>\n",
       "      <th>1</th>\n",
       "      <td>1</td>\n",
       "      <td>3.906237e+06</td>\n",
       "    </tr>\n",
       "    <tr>\n",
       "      <th>2</th>\n",
       "      <td>2</td>\n",
       "      <td>3.301980e+06</td>\n",
       "    </tr>\n",
       "    <tr>\n",
       "      <th>3</th>\n",
       "      <td>3</td>\n",
       "      <td>3.028614e+06</td>\n",
       "    </tr>\n",
       "    <tr>\n",
       "      <th>4</th>\n",
       "      <td>4</td>\n",
       "      <td>4.058496e+06</td>\n",
       "    </tr>\n",
       "    <tr>\n",
       "      <th>...</th>\n",
       "      <td>...</td>\n",
       "      <td>...</td>\n",
       "    </tr>\n",
       "    <tr>\n",
       "      <th>99995</th>\n",
       "      <td>99995</td>\n",
       "      <td>4.395664e+06</td>\n",
       "    </tr>\n",
       "    <tr>\n",
       "      <th>99996</th>\n",
       "      <td>99996</td>\n",
       "      <td>4.047054e+06</td>\n",
       "    </tr>\n",
       "    <tr>\n",
       "      <th>99997</th>\n",
       "      <td>99997</td>\n",
       "      <td>4.199615e+06</td>\n",
       "    </tr>\n",
       "    <tr>\n",
       "      <th>99998</th>\n",
       "      <td>99998</td>\n",
       "      <td>4.213450e+06</td>\n",
       "    </tr>\n",
       "    <tr>\n",
       "      <th>99999</th>\n",
       "      <td>99999</td>\n",
       "      <td>4.571625e+06</td>\n",
       "    </tr>\n",
       "  </tbody>\n",
       "</table>\n",
       "<p>100000 rows × 2 columns</p>\n",
       "</div>"
      ],
      "text/plain": [
       "          id    Prediction\n",
       "0          0  4.836411e+06\n",
       "1          1  3.906237e+06\n",
       "2          2  3.301980e+06\n",
       "3          3  3.028614e+06\n",
       "4          4  4.058496e+06\n",
       "...      ...           ...\n",
       "99995  99995  4.395664e+06\n",
       "99996  99996  4.047054e+06\n",
       "99997  99997  4.199615e+06\n",
       "99998  99998  4.213450e+06\n",
       "99999  99999  4.571625e+06\n",
       "\n",
       "[100000 rows x 2 columns]"
      ]
     },
     "execution_count": 53,
     "metadata": {},
     "output_type": "execute_result"
    }
   ],
   "source": [
    "sample"
   ]
  },
  {
   "cell_type": "code",
   "execution_count": 54,
   "metadata": {
    "execution": {
     "iopub.execute_input": "2020-10-22T13:13:59.373395Z",
     "iopub.status.busy": "2020-10-22T13:13:59.367193Z",
     "iopub.status.idle": "2020-10-22T13:13:59.529123Z",
     "shell.execute_reply": "2020-10-22T13:13:59.527974Z"
    },
    "papermill": {
     "duration": 0.244672,
     "end_time": "2020-10-22T13:13:59.529341",
     "exception": false,
     "start_time": "2020-10-22T13:13:59.284669",
     "status": "completed"
    },
    "tags": []
   },
   "outputs": [],
   "source": [
    "sample['Prediction']=sample['Prediction'].apply(lambda x: round((float(x/1e6)*1000000),1))"
   ]
  },
  {
   "cell_type": "code",
   "execution_count": 55,
   "metadata": {
    "execution": {
     "iopub.execute_input": "2020-10-22T13:13:59.686221Z",
     "iopub.status.busy": "2020-10-22T13:13:59.685354Z",
     "iopub.status.idle": "2020-10-22T13:13:59.690020Z",
     "shell.execute_reply": "2020-10-22T13:13:59.689442Z"
    },
    "papermill": {
     "duration": 0.084583,
     "end_time": "2020-10-22T13:13:59.690153",
     "exception": false,
     "start_time": "2020-10-22T13:13:59.605570",
     "status": "completed"
    },
    "tags": []
   },
   "outputs": [
    {
     "data": {
      "text/plain": [
       "0        4836411.0\n",
       "1        3906236.5\n",
       "2        3301980.1\n",
       "3        3028614.0\n",
       "4        4058495.9\n",
       "           ...    \n",
       "99995    4395664.4\n",
       "99996    4047054.1\n",
       "99997    4199614.6\n",
       "99998    4213450.4\n",
       "99999    4571625.0\n",
       "Name: Prediction, Length: 100000, dtype: float64"
      ]
     },
     "execution_count": 55,
     "metadata": {},
     "output_type": "execute_result"
    }
   ],
   "source": [
    "sample['Prediction']"
   ]
  },
  {
   "cell_type": "code",
   "execution_count": 56,
   "metadata": {
    "execution": {
     "iopub.execute_input": "2020-10-22T13:13:59.841053Z",
     "iopub.status.busy": "2020-10-22T13:13:59.840276Z",
     "iopub.status.idle": "2020-10-22T13:14:00.227422Z",
     "shell.execute_reply": "2020-10-22T13:14:00.226601Z"
    },
    "papermill": {
     "duration": 0.464543,
     "end_time": "2020-10-22T13:14:00.227559",
     "exception": false,
     "start_time": "2020-10-22T13:13:59.763016",
     "status": "completed"
    },
    "tags": []
   },
   "outputs": [],
   "source": [
    "sample.to_csv('submission.csv', index=False)"
   ]
  }
 ],
 "metadata": {
  "kernelspec": {
   "display_name": "Python 3",
   "language": "python",
   "name": "python3"
  },
  "language_info": {
   "codemirror_mode": {
    "name": "ipython",
    "version": 3
   },
   "file_extension": ".py",
   "mimetype": "text/x-python",
   "name": "python",
   "nbconvert_exporter": "python",
   "pygments_lexer": "ipython3",
   "version": "3.7.6"
  },
  "papermill": {
   "duration": 27.175987,
   "end_time": "2020-10-22T13:14:00.407947",
   "environment_variables": {},
   "exception": null,
   "input_path": "__notebook__.ipynb",
   "output_path": "__notebook__.ipynb",
   "parameters": {},
   "start_time": "2020-10-22T13:13:33.231960",
   "version": "2.1.0"
  }
 },
 "nbformat": 4,
 "nbformat_minor": 4
}
